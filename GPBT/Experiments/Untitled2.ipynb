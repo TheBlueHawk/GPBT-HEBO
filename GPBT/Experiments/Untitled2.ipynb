{
 "cells": [
  {
   "cell_type": "code",
   "execution_count": 1,
   "metadata": {},
   "outputs": [
    {
     "name": "stderr",
     "output_type": "stream",
     "text": [
      "2021-03-26 12:24:43,787\tINFO services.py:1174 -- View the Ray dashboard at \u001b[1m\u001b[32mhttp://127.0.0.1:8265\u001b[39m\u001b[22m\n"
     ]
    },
    {
     "name": "stdout",
     "output_type": "stream",
     "text": [
      "Best hyperparameters found were:  {'lr': 0.0001, 'some_other_factor': 1}\n"
     ]
    }
   ],
   "source": [
    "import argparse\n",
    "\n",
    "import ray\n",
    "from ray import tune\n",
    "from ray.tune.schedulers.pb2 import PB2\n",
    "from ray.tune.examples.pbt_function import pbt_function\n",
    "\n",
    "if __name__ == \"__main__\":\n",
    "    parser = argparse.ArgumentParser()\n",
    "    parser.add_argument(\n",
    "        \"--smoke-test\", action=\"store_true\", help=\"Finish quickly for testing\")\n",
    "    args, _ = parser.parse_known_args()\n",
    "    if args.smoke_test:\n",
    "        ray.init(num_cpus=2)  # force pausing to happen for test\n",
    "    else:\n",
    "        ray.init()\n",
    "\n",
    "    pbt = PB2(\n",
    "        perturbation_interval=20,\n",
    "        hyperparam_bounds={\n",
    "            # hyperparameter bounds.\n",
    "            \"lr\": [0.0001, 0.02],\n",
    "        })\n",
    "\n",
    "    analysis = tune.run(\n",
    "        pbt_function,\n",
    "        name=\"pbt_test\",\n",
    "        scheduler=pbt,\n",
    "        metric=\"mean_accuracy\",\n",
    "        mode=\"max\",\n",
    "        verbose=False,\n",
    "        stop={\n",
    "            \"training_iteration\": 30,\n",
    "        },\n",
    "        num_samples=8,\n",
    "        fail_fast=True,\n",
    "        config={\n",
    "            \"lr\": 0.0001,\n",
    "            # note: this parameter is perturbed but has no effect on\n",
    "            # the model training in this example\n",
    "            \"some_other_factor\": 1,\n",
    "        })\n",
    "\n",
    "    print(\"Best hyperparameters found were: \", analysis.best_config)"
   ]
  }
 ],
 "metadata": {
  "kernelspec": {
   "display_name": "Python 3",
   "language": "python",
   "name": "python3"
  },
  "language_info": {
   "codemirror_mode": {
    "name": "ipython",
    "version": 3
   },
   "file_extension": ".py",
   "mimetype": "text/x-python",
   "name": "python",
   "nbconvert_exporter": "python",
   "pygments_lexer": "ipython3",
   "version": "3.7.7"
  }
 },
 "nbformat": 4,
 "nbformat_minor": 4
}
