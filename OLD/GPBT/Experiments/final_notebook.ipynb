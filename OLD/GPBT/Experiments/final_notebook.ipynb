{
 "cells": [
  {
   "cell_type": "markdown",
   "metadata": {},
   "source": [
    "# Final Notebook"
   ]
  },
  {
   "cell_type": "markdown",
   "metadata": {},
   "source": [
    "This notebook shows the final functionality of the libraries created for this project. The files created are:\n",
    "* `datasets.py` which contains the loader for different datasets\n",
    "* `schedulers.py` which contains the Scheduler class for our Population Based algorithm\n",
    "* `oracle.py` which contains the implementation for the Bayesian Optimization\n",
    "* `model.py` which contains the network models which are being trained\n",
    "\n",
    "In the following also `torch`, `hyperopt` will be used"
   ]
  },
  {
   "cell_type": "code",
   "execution_count": 14,
   "metadata": {},
   "outputs": [],
   "source": [
    "import model, datasets, schedulers, oracles\n",
    "import time\n",
    "import torch\n",
    "from hyperopt import hp, fmin, tpe, Trials, rand\n",
    "import matplotlib.pyplot as plt\n",
    "import os\n",
    "path = \"\""
   ]
  },
  {
   "cell_type": "code",
   "execution_count": null,
   "metadata": {},
   "outputs": [],
   "source": []
  },
  {
   "cell_type": "markdown",
   "metadata": {},
   "source": [
    "To train the data we use the following routine:"
   ]
  },
  {
   "cell_type": "code",
   "execution_count": 2,
   "metadata": {
    "scrolled": true
   },
   "outputs": [
    {
     "name": "stderr",
     "output_type": "stream",
     "text": [
      "/home/antoine/anaconda3/lib/python3.7/site-packages/skopt/optimizer/optimizer.py:449: UserWarning: The objective has been evaluated at this point before.\n",
      "  warnings.warn(\"The objective has been evaluated \"\n",
      "/home/antoine/anaconda3/lib/python3.7/site-packages/skopt/optimizer/optimizer.py:449: UserWarning: The objective has been evaluated at this point before.\n",
      "  warnings.warn(\"The objective has been evaluated \"\n"
     ]
    },
    {
     "name": "stdout",
     "output_type": "stream",
     "text": [
      "iter1\n",
      "parent_idx0.02172410955616072\n",
      "iter2\n",
      "parent_idx0.02172410721872367\n",
      "iter3\n",
      "parent_idx0.02171033971449908\n",
      "iter4\n",
      "parent_idx0.02171033737706203\n",
      "iter1\n",
      "parent_idx0.0218126516716153\n",
      "iter2\n",
      "parent_idx0.01957001054988188\n",
      "iter3\n",
      "parent_idx0.019187214327793495\n",
      "iter4\n",
      "parent_idx0.019018894317103366\n",
      "iter1\n",
      "parent_idx0.025475427216174556\n",
      "iter2\n",
      "parent_idx0.024013566035850375\n",
      "iter3\n",
      "parent_idx0.019124193518769508\n",
      "iter4\n",
      "parent_idx0.018915006927415438\n"
     ]
    },
    {
     "name": "stderr",
     "output_type": "stream",
     "text": [
      "/home/antoine/anaconda3/lib/python3.7/site-packages/skopt/optimizer/optimizer.py:449: UserWarning: The objective has been evaluated at this point before.\n",
      "  warnings.warn(\"The objective has been evaluated \"\n"
     ]
    },
    {
     "name": "stdout",
     "output_type": "stream",
     "text": [
      "iter1\n",
      "parent_idx0.02192523900200339\n",
      "iter2\n",
      "parent_idx0.019792949452119714\n",
      "iter3\n",
      "parent_idx0.019327573916491342\n",
      "iter4\n",
      "parent_idx0.019163053409726013\n",
      "iter1\n",
      "parent_idx0.02008019007888495\n",
      "iter2\n",
      "parent_idx0.020108653049842985\n",
      "iter3\n",
      "parent_idx0.01835499791538014\n",
      "iter4\n",
      "parent_idx0.019596395539302452\n"
     ]
    }
   ],
   "source": [
    "for i in range(5):\n",
    "    n_configurations = 72\n",
    "    total_iterations = 5\n",
    "    model_config = {\n",
    "        \"lr\": 0.031\n",
    "    }\n",
    "    config = {\n",
    "        \"lr\": hp.uniform(\"lr\",0,.1),\n",
    "        \"droupout_prob\": hp.uniform(\"droupout_prob\",0,1),\n",
    "        \"weight_decay\": hp.uniform(\"weight_decay\",0,.1),\n",
    "        \"b1\" : hp.uniform(\"b1\",0.9, 1),\n",
    "        \"b2\" : hp.uniform(\"b2\",0.99, 1),\n",
    "        \"eps\" : hp.uniform(\"eps\",6, 20)\n",
    "\n",
    "    }\n",
    "\n",
    "\n",
    "    def translation(liste):\n",
    "        config = {}\n",
    "        config[\"lr\"] = liste[0]\n",
    "        config[\"droupout_prob\"] = liste[1]\n",
    "        config[\"weight_decay\"] = liste[2]\n",
    "        config[\"b1\"] = liste[3]\n",
    "        config[\"b2\"] = liste[4]\n",
    "        config[\"eps\"] = liste[5]\n",
    "        return config\n",
    "\n",
    "    config=   [(0,.1),(0.,1.),(0,.1),(.9,1-1e-10),(.99,1-1e-10),(6.,20.)]\n",
    "\n",
    "\n",
    "    model = datasets.TrainBoston #(model_config, \"LeNet\")\n",
    "    oracle = oracles.Guesser(config,0)\n",
    "    start_time = time.time()\n",
    "    scheduler = schedulers.Scheduler(model, total_iterations, n_configurations, oracle,2,True,1e100)\n",
    "    scheduler.initialisation()\n",
    "    scheduler.loop()"
   ]
  },
  {
   "cell_type": "code",
   "execution_count": 2,
   "metadata": {},
   "outputs": [
    {
     "data": {
      "text/plain": [
       "{'lr': 1, 'droupout_prob': 3, 'weight_decay': 4, 'b1': 5, 'b2': 3, 'eps': 5}"
      ]
     },
     "execution_count": 2,
     "metadata": {},
     "output_type": "execute_result"
    }
   ],
   "source": [
    "def translation(liste):\n",
    "    config = {}\n",
    "    config[\"lr\"] = liste[0]\n",
    "    config[\"droupout_prob\"] = liste[1]\n",
    "    config[\"weight_decay\"] = liste[2]\n",
    "    config[\"b1\"] = liste[3]\n",
    "    config[\"b2\"] = liste[4]\n",
    "    config[\"eps\"] = liste[5]\n",
    "    return config\n",
    "\n",
    "\n",
    "translation([1,3,4,5,3,5])\n"
   ]
  },
  {
   "cell_type": "code",
   "execution_count": null,
   "metadata": {},
   "outputs": [],
   "source": [
    "model = datasets.TrainBoston #(model_config, \"LeNet\")\n"
   ]
  },
  {
   "cell_type": "code",
   "execution_count": 4,
   "metadata": {},
   "outputs": [],
   "source": [
    "def f(x):\n",
    "    return np.sum(x)"
   ]
  },
  {
   "cell_type": "code",
   "execution_count": 23,
   "metadata": {},
   "outputs": [],
   "source": [
    "import skopt\n",
    "import numpy as np\n",
    "\n",
    "\n",
    "\n",
    "coucou = skopt.gp_minimize(f,config,n_calls=10)"
   ]
  },
  {
   "cell_type": "code",
   "execution_count": 26,
   "metadata": {},
   "outputs": [
    {
     "data": {
      "text/plain": [
       "10"
      ]
     },
     "execution_count": 26,
     "metadata": {},
     "output_type": "execute_result"
    }
   ],
   "source": [
    "x0 =coucou.x_iters\n",
    "y0= coucou.func_vals\n",
    "len(x0)"
   ]
  },
  {
   "cell_type": "code",
   "execution_count": 27,
   "metadata": {},
   "outputs": [],
   "source": [
    "coucou2 = skopt.gp_minimize(f,config,n_calls=10,x0=x0,y0=y0)"
   ]
  },
  {
   "cell_type": "code",
   "execution_count": 28,
   "metadata": {},
   "outputs": [
    {
     "data": {
      "text/plain": [
       "20"
      ]
     },
     "execution_count": 28,
     "metadata": {},
     "output_type": "execute_result"
    }
   ],
   "source": [
    "x0 =coucou2.x_iters\n",
    "y0= coucou2.func_vals\n",
    "len(x0)"
   ]
  },
  {
   "cell_type": "code",
   "execution_count": 29,
   "metadata": {},
   "outputs": [],
   "source": [
    "coucou4 = skopt.gp_minimize(f,config,n_calls=10,x0=x0,y0=y0)"
   ]
  },
  {
   "cell_type": "code",
   "execution_count": 30,
   "metadata": {},
   "outputs": [
    {
     "data": {
      "text/plain": [
       "          fun: 8.002008699630668\n",
       "    func_vals: array([11.02092573, 18.99495235, 10.04888737, 19.93596079, 14.06833562,\n",
       "       20.03335785, 17.10957945, 12.08772151, 17.05506647, 16.07171061,\n",
       "        8.0020087 , 17.0377499 , 14.00254724, 16.07650565, 17.08891509,\n",
       "       10.08472907, 12.97243565, 13.03437775,  9.0201163 , 17.07197449,\n",
       "       19.061424  ,  8.02273599,  8.03963449, 10.05921454, 16.04766548,\n",
       "       11.97345885, 17.03741938, 17.99004856, 22.03107064, 14.02167873])\n",
       "       models: [GaussianProcessRegressor(kernel=1**2 * Matern(length_scale=[1, 1, 1, 1, 1, 1], nu=2.5) + WhiteKernel(noise_level=1),\n",
       "                         n_restarts_optimizer=2, noise='gaussian',\n",
       "                         normalize_y=True, random_state=1839174991)]\n",
       " random_state: RandomState(MT19937) at 0x7EFCC40526B0\n",
       "        space: Space([Real(low=0, high=0.1, prior='uniform', transform='normalize'),\n",
       "       Integer(low=0, high=1, prior='uniform', transform='normalize'),\n",
       "       Real(low=0, high=0.1, prior='uniform', transform='normalize'),\n",
       "       Real(low=0.9, high=1, prior='uniform', transform='normalize'),\n",
       "       Real(low=0.99, high=1, prior='uniform', transform='normalize'),\n",
       "       Integer(low=6, high=20, prior='uniform', transform='normalize')])\n",
       "        specs: {'args': {'func': <function f at 0x7efcdcb225f0>, 'dimensions': Space([Real(low=0, high=0.1, prior='uniform', transform='normalize'),\n",
       "       Integer(low=0, high=1, prior='uniform', transform='normalize'),\n",
       "       Real(low=0, high=0.1, prior='uniform', transform='normalize'),\n",
       "       Real(low=0.9, high=1, prior='uniform', transform='normalize'),\n",
       "       Real(low=0.99, high=1, prior='uniform', transform='normalize'),\n",
       "       Integer(low=6, high=20, prior='uniform', transform='normalize')]), 'base_estimator': GaussianProcessRegressor(kernel=1**2 * Matern(length_scale=[1, 1, 1, 1, 1, 1], nu=2.5),\n",
       "                         n_restarts_optimizer=2, noise='gaussian',\n",
       "                         normalize_y=True, random_state=1839174991), 'n_calls': 10, 'n_random_starts': None, 'n_initial_points': 10, 'initial_point_generator': 'random', 'acq_func': 'gp_hedge', 'acq_optimizer': 'auto', 'x0': [[0.035023387001748126, 0, 0.08788965236489682, 0.9026148490080096, 0.995397840025005, 9], [0.04077960595461784, 1, 0.0051864920833399235, 0.9589165061971869, 0.9900697408701445, 16], [0.050216060537104514, 1, 0.06402108818454072, 0.9384421457411017, 0.9962080717444454, 7], [0.006051841689891359, 1, 0.011502864826934993, 0.9280891309339937, 0.9903169496819906, 17], [0.03939819908779921, 0, 0.0794109710977306, 0.950618765153336, 0.9989076883242937, 12], [0.025622480089564244, 0, 0.027436410328270707, 0.9828965007233449, 0.9974024578263754, 18], [0.07931327391021181, 0, 0.0970018388016593, 0.9339505413861964, 0.9993137982384318, 15], [0.01838915524091878, 1, 0.0905839108498871, 0.9840052018573137, 0.9947432469872566, 9], [0.030770707945864235, 1, 0.08142304746442434, 0.9477224432149027, 0.9951502724892209, 14], [0.07701427458557754, 0, 0.03946614283495688, 0.962006220978853, 0.993223972069844, 14], [0.012190469735170776, 0, 0.08792783060934418, 0.9097271442582552, 0.9921632550278981, 6], [0.059529688029948985, 1, 0.028957801064881855, 0.9537063159230471, 0.9955560943659735, 14], [0.08449211983750476, 1, 0.014372984235123856, 0.9110713148338864, 0.9926108233914647, 11], [0.06786828519926545, 0, 0.022970855333683756, 0.9905430307824833, 0.9951234826517894, 14], [0.05928569134918099, 1, 0.042301450757024274, 0.9948368958601204, 0.9924910561320429, 14], [0.08460249589934225, 1, 0.0329016674358159, 0.9685752028301451, 0.9986497069673556, 7], [0.012968336063159117, 1, 0.060858191012510277, 0.9030088599536661, 0.9956002633198138, 10], [0.06725599598246405, 0, 0.002419278518660951, 0.9661120196721982, 0.9985904542135599, 11], [0.057221183613456905, 1, 0.035316093036684114, 0.9328142420256196, 0.9947647795177084, 6], [0.041696470625889825, 1, 0.040816531074434975, 0.9981272222234516, 0.9913342647439515, 14]], 'y0': array([11.02092573, 18.99495235, 10.04888737, 19.93596079, 14.06833562,\n",
       "       20.03335785, 17.10957945, 12.08772151, 17.05506647, 16.07171061,\n",
       "        8.0020087 , 17.0377499 , 14.00254724, 16.07650565, 17.08891509,\n",
       "       10.08472907, 12.97243565, 13.03437775,  9.0201163 , 17.07197449]), 'random_state': RandomState(MT19937) at 0x7EFCC40526B0, 'verbose': False, 'callback': None, 'n_points': 10000, 'n_restarts_optimizer': 5, 'xi': 0.01, 'kappa': 1.96, 'n_jobs': 1, 'model_queue_size': None}, 'function': 'base_minimize'}\n",
       "            x: [0.012190469735170776, 0, 0.08792783060934418, 0.9097271442582552, 0.9921632550278981, 6]\n",
       "      x_iters: [[0.035023387001748126, 0, 0.08788965236489682, 0.9026148490080096, 0.995397840025005, 9], [0.04077960595461784, 1, 0.0051864920833399235, 0.9589165061971869, 0.9900697408701445, 16], [0.050216060537104514, 1, 0.06402108818454072, 0.9384421457411017, 0.9962080717444454, 7], [0.006051841689891359, 1, 0.011502864826934993, 0.9280891309339937, 0.9903169496819906, 17], [0.03939819908779921, 0, 0.0794109710977306, 0.950618765153336, 0.9989076883242937, 12], [0.025622480089564244, 0, 0.027436410328270707, 0.9828965007233449, 0.9974024578263754, 18], [0.07931327391021181, 0, 0.0970018388016593, 0.9339505413861964, 0.9993137982384318, 15], [0.01838915524091878, 1, 0.0905839108498871, 0.9840052018573137, 0.9947432469872566, 9], [0.030770707945864235, 1, 0.08142304746442434, 0.9477224432149027, 0.9951502724892209, 14], [0.07701427458557754, 0, 0.03946614283495688, 0.962006220978853, 0.993223972069844, 14], [0.012190469735170776, 0, 0.08792783060934418, 0.9097271442582552, 0.9921632550278981, 6], [0.059529688029948985, 1, 0.028957801064881855, 0.9537063159230471, 0.9955560943659735, 14], [0.08449211983750476, 1, 0.014372984235123856, 0.9110713148338864, 0.9926108233914647, 11], [0.06786828519926545, 0, 0.022970855333683756, 0.9905430307824833, 0.9951234826517894, 14], [0.05928569134918099, 1, 0.042301450757024274, 0.9948368958601204, 0.9924910561320429, 14], [0.08460249589934225, 1, 0.0329016674358159, 0.9685752028301451, 0.9986497069673556, 7], [0.012968336063159117, 1, 0.060858191012510277, 0.9030088599536661, 0.9956002633198138, 10], [0.06725599598246405, 0, 0.002419278518660951, 0.9661120196721982, 0.9985904542135599, 11], [0.057221183613456905, 1, 0.035316093036684114, 0.9328142420256196, 0.9947647795177084, 6], [0.041696470625889825, 1, 0.040816531074434975, 0.9981272222234516, 0.9913342647439515, 14], [0.018673274864242754, 0, 0.08842768278779839, 0.9578667716912077, 0.9964562751935209, 17], [0.03571271247272381, 0, 0.08414737643602928, 0.9097452005292879, 0.9931306985372951, 6], [0.07968083999706711, 0, 0.03168637155357761, 0.9295030420179762, 0.9987642359622617, 6], [0.013876782672185376, 0, 0.06909699990138206, 0.9822442122035808, 0.9939965442164236, 8], [0.08861765458684194, 1, 0.04556478084351288, 0.9209112794726969, 0.9925717698300411, 13], [0.011177849496999884, 1, 0.04781045102520986, 0.9185978651085261, 0.9958726807311008, 9], [0.08312478235121448, 1, 0.03547656081516266, 0.927265096866196, 0.9915529385695455, 14], [0.0636949244734846, 0, 0.008483833591640646, 0.9237874316189002, 0.994082374162995, 16], [0.06534056758379299, 1, 0.0009126090603304273, 0.9685693562381359, 0.9962481025219417, 19], [0.0036594986667906958, 0, 0.02422431677635138, 0.9998611065873988, 0.9939338104852349, 12]]"
      ]
     },
     "execution_count": 30,
     "metadata": {},
     "output_type": "execute_result"
    }
   ],
   "source": [
    "coucou4"
   ]
  },
  {
   "cell_type": "code",
   "execution_count": 31,
   "metadata": {},
   "outputs": [
    {
     "name": "stderr",
     "output_type": "stream",
     "text": [
      "/home/antoine/anaconda3/lib/python3.7/site-packages/skopt/optimizer/optimizer.py:449: UserWarning: The objective has been evaluated at this point before.\n",
      "  warnings.warn(\"The objective has been evaluated \"\n",
      "/home/antoine/anaconda3/lib/python3.7/site-packages/skopt/optimizer/optimizer.py:449: UserWarning: The objective has been evaluated at this point before.\n",
      "  warnings.warn(\"The objective has been evaluated \"\n",
      "/home/antoine/anaconda3/lib/python3.7/site-packages/skopt/optimizer/optimizer.py:449: UserWarning: The objective has been evaluated at this point before.\n",
      "  warnings.warn(\"The objective has been evaluated \"\n",
      "/home/antoine/anaconda3/lib/python3.7/site-packages/skopt/optimizer/optimizer.py:449: UserWarning: The objective has been evaluated at this point before.\n",
      "  warnings.warn(\"The objective has been evaluated \"\n",
      "/home/antoine/anaconda3/lib/python3.7/site-packages/skopt/optimizer/optimizer.py:449: UserWarning: The objective has been evaluated at this point before.\n",
      "  warnings.warn(\"The objective has been evaluated \"\n",
      "/home/antoine/anaconda3/lib/python3.7/site-packages/skopt/optimizer/optimizer.py:449: UserWarning: The objective has been evaluated at this point before.\n",
      "  warnings.warn(\"The objective has been evaluated \"\n",
      "/home/antoine/anaconda3/lib/python3.7/site-packages/skopt/optimizer/optimizer.py:449: UserWarning: The objective has been evaluated at this point before.\n",
      "  warnings.warn(\"The objective has been evaluated \"\n",
      "/home/antoine/anaconda3/lib/python3.7/site-packages/skopt/optimizer/optimizer.py:449: UserWarning: The objective has been evaluated at this point before.\n",
      "  warnings.warn(\"The objective has been evaluated \"\n"
     ]
    },
    {
     "data": {
      "text/plain": [
       "          fun: 7.890000000000001\n",
       "    func_vals: array([13.08975941, 10.14487364, 17.02767374, 15.03288283, 18.99237371,\n",
       "       23.06530958, 16.06131048, 16.16080982, 15.07526595, 20.07497263,\n",
       "        7.99585338,  7.89      ,  7.9       ,  7.89      ,  7.99      ,\n",
       "        7.89      ,  7.99      ,  7.94104497,  7.89      ,  7.89      ,\n",
       "        7.94684803,  7.89      ,  7.89      ,  7.96826208,  7.9942326 ,\n",
       "        7.98574254,  7.93051144,  7.89      ,  7.90939949,  7.89      ])\n",
       "       models: [GaussianProcessRegressor(kernel=1**2 * Matern(length_scale=[1, 1, 1, 1, 1, 1], nu=2.5) + WhiteKernel(noise_level=1),\n",
       "                         n_restarts_optimizer=2, noise='gaussian',\n",
       "                         normalize_y=True, random_state=1265827968), GaussianProcessRegressor(kernel=1**2 * Matern(length_scale=[1, 1, 1, 1, 1, 1], nu=2.5) + WhiteKernel(noise_level=1),\n",
       "                         n_restarts_optimizer=2, noise='gaussian',\n",
       "                         normalize_y=True, random_state=1265827968), GaussianProcessRegressor(kernel=1**2 * Matern(length_scale=[1, 1, 1, 1, 1, 1], nu=2.5) + WhiteKernel(noise_level=1),\n",
       "                         n_restarts_optimizer=2, noise='gaussian',\n",
       "                         normalize_y=True, random_state=1265827968), GaussianProcessRegressor(kernel=1**2 * Matern(length_scale=[1, 1, 1, 1, 1, 1], nu=2.5) + WhiteKernel(noise_level=1),\n",
       "                         n_restarts_optimizer=2, noise='gaussian',\n",
       "                         normalize_y=True, random_state=1265827968), GaussianProcessRegressor(kernel=1**2 * Matern(length_scale=[1, 1, 1, 1, 1, 1], nu=2.5) + WhiteKernel(noise_level=1),\n",
       "                         n_restarts_optimizer=2, noise='gaussian',\n",
       "                         normalize_y=True, random_state=1265827968), GaussianProcessRegressor(kernel=1**2 * Matern(length_scale=[1, 1, 1, 1, 1, 1], nu=2.5) + WhiteKernel(noise_level=1),\n",
       "                         n_restarts_optimizer=2, noise='gaussian',\n",
       "                         normalize_y=True, random_state=1265827968), GaussianProcessRegressor(kernel=1**2 * Matern(length_scale=[1, 1, 1, 1, 1, 1], nu=2.5) + WhiteKernel(noise_level=1),\n",
       "                         n_restarts_optimizer=2, noise='gaussian',\n",
       "                         normalize_y=True, random_state=1265827968), GaussianProcessRegressor(kernel=1**2 * Matern(length_scale=[1, 1, 1, 1, 1, 1], nu=2.5) + WhiteKernel(noise_level=1),\n",
       "                         n_restarts_optimizer=2, noise='gaussian',\n",
       "                         normalize_y=True, random_state=1265827968), GaussianProcessRegressor(kernel=1**2 * Matern(length_scale=[1, 1, 1, 1, 1, 1], nu=2.5) + WhiteKernel(noise_level=1),\n",
       "                         n_restarts_optimizer=2, noise='gaussian',\n",
       "                         normalize_y=True, random_state=1265827968), GaussianProcessRegressor(kernel=1**2 * Matern(length_scale=[1, 1, 1, 1, 1, 1], nu=2.5) + WhiteKernel(noise_level=1),\n",
       "                         n_restarts_optimizer=2, noise='gaussian',\n",
       "                         normalize_y=True, random_state=1265827968), GaussianProcessRegressor(kernel=1**2 * Matern(length_scale=[1, 1, 1, 1, 1, 1], nu=2.5) + WhiteKernel(noise_level=1),\n",
       "                         n_restarts_optimizer=2, noise='gaussian',\n",
       "                         normalize_y=True, random_state=1265827968), GaussianProcessRegressor(kernel=1**2 * Matern(length_scale=[1, 1, 1, 1, 1, 1], nu=2.5) + WhiteKernel(noise_level=1),\n",
       "                         n_restarts_optimizer=2, noise='gaussian',\n",
       "                         normalize_y=True, random_state=1265827968), GaussianProcessRegressor(kernel=1**2 * Matern(length_scale=[1, 1, 1, 1, 1, 1], nu=2.5) + WhiteKernel(noise_level=1),\n",
       "                         n_restarts_optimizer=2, noise='gaussian',\n",
       "                         normalize_y=True, random_state=1265827968), GaussianProcessRegressor(kernel=1**2 * Matern(length_scale=[1, 1, 1, 1, 1, 1], nu=2.5) + WhiteKernel(noise_level=1),\n",
       "                         n_restarts_optimizer=2, noise='gaussian',\n",
       "                         normalize_y=True, random_state=1265827968), GaussianProcessRegressor(kernel=1**2 * Matern(length_scale=[1, 1, 1, 1, 1, 1], nu=2.5) + WhiteKernel(noise_level=1),\n",
       "                         n_restarts_optimizer=2, noise='gaussian',\n",
       "                         normalize_y=True, random_state=1265827968), GaussianProcessRegressor(kernel=1**2 * Matern(length_scale=[1, 1, 1, 1, 1, 1], nu=2.5) + WhiteKernel(noise_level=1),\n",
       "                         n_restarts_optimizer=2, noise='gaussian',\n",
       "                         normalize_y=True, random_state=1265827968), GaussianProcessRegressor(kernel=1**2 * Matern(length_scale=[1, 1, 1, 1, 1, 1], nu=2.5) + WhiteKernel(noise_level=1),\n",
       "                         n_restarts_optimizer=2, noise='gaussian',\n",
       "                         normalize_y=True, random_state=1265827968), GaussianProcessRegressor(kernel=1**2 * Matern(length_scale=[1, 1, 1, 1, 1, 1], nu=2.5) + WhiteKernel(noise_level=1),\n",
       "                         n_restarts_optimizer=2, noise='gaussian',\n",
       "                         normalize_y=True, random_state=1265827968), GaussianProcessRegressor(kernel=1**2 * Matern(length_scale=[1, 1, 1, 1, 1, 1], nu=2.5) + WhiteKernel(noise_level=1),\n",
       "                         n_restarts_optimizer=2, noise='gaussian',\n",
       "                         normalize_y=True, random_state=1265827968), GaussianProcessRegressor(kernel=1**2 * Matern(length_scale=[1, 1, 1, 1, 1, 1], nu=2.5) + WhiteKernel(noise_level=1),\n",
       "                         n_restarts_optimizer=2, noise='gaussian',\n",
       "                         normalize_y=True, random_state=1265827968), GaussianProcessRegressor(kernel=1**2 * Matern(length_scale=[1, 1, 1, 1, 1, 1], nu=2.5) + WhiteKernel(noise_level=1),\n",
       "                         n_restarts_optimizer=2, noise='gaussian',\n",
       "                         normalize_y=True, random_state=1265827968)]\n",
       " random_state: RandomState(MT19937) at 0x7EFCC40526B0\n",
       "        space: Space([Real(low=0, high=0.1, prior='uniform', transform='normalize'),\n",
       "       Integer(low=0, high=1, prior='uniform', transform='normalize'),\n",
       "       Real(low=0, high=0.1, prior='uniform', transform='normalize'),\n",
       "       Real(low=0.9, high=1, prior='uniform', transform='normalize'),\n",
       "       Real(low=0.99, high=1, prior='uniform', transform='normalize'),\n",
       "       Integer(low=6, high=20, prior='uniform', transform='normalize')])\n",
       "        specs: {'args': {'func': <function f at 0x7efcdcb225f0>, 'dimensions': Space([Real(low=0, high=0.1, prior='uniform', transform='normalize'),\n",
       "       Integer(low=0, high=1, prior='uniform', transform='normalize'),\n",
       "       Real(low=0, high=0.1, prior='uniform', transform='normalize'),\n",
       "       Real(low=0.9, high=1, prior='uniform', transform='normalize'),\n",
       "       Real(low=0.99, high=1, prior='uniform', transform='normalize'),\n",
       "       Integer(low=6, high=20, prior='uniform', transform='normalize')]), 'base_estimator': GaussianProcessRegressor(kernel=1**2 * Matern(length_scale=[1, 1, 1, 1, 1, 1], nu=2.5),\n",
       "                         n_restarts_optimizer=2, noise='gaussian',\n",
       "                         normalize_y=True, random_state=1265827968), 'n_calls': 30, 'n_random_starts': None, 'n_initial_points': 10, 'initial_point_generator': 'random', 'acq_func': 'gp_hedge', 'acq_optimizer': 'auto', 'x0': None, 'y0': None, 'random_state': RandomState(MT19937) at 0x7EFCC40526B0, 'verbose': False, 'callback': None, 'n_points': 10000, 'n_restarts_optimizer': 5, 'xi': 0.01, 'kappa': 1.96, 'n_jobs': 1, 'model_queue_size': None}, 'function': 'base_minimize'}\n",
       "            x: [0.0, 0, 0.0, 0.9, 0.99, 6]\n",
       "      x_iters: [[0.09368439405004438, 1, 0.07173909815684613, 0.9254018739287905, 0.9989340397149997, 10], [0.07144524141232998, 0, 0.08855612353939976, 0.9934565963637011, 0.9914156742812091, 8], [0.0058469301314301855, 0, 0.08417453178407584, 0.9382305506219486, 0.9994217306852554, 15], [0.03932112363487901, 1, 0.050699251130956705, 0.9440988594832889, 0.9987635958945527, 12], [0.06949149854198233, 0, 0.02038894779886967, 0.9101532329267747, 0.9923400319527539, 17], [0.037416887738153035, 1, 0.09739453051980285, 0.9320316669904669, 0.9984664995846926, 20], [0.03327168505028815, 0, 0.09650176807984633, 0.9395399124768785, 0.9919971183401082, 14], [0.08230250258966187, 1, 0.08897547598613038, 0.9988489279577419, 0.9906829114936425, 13], [0.07380350622090691, 0, 0.0517144289269454, 0.9558035036178395, 0.9939445067645749, 13], [0.055854678972758615, 0, 0.0863774908220965, 0.9411422703542713, 0.9915981850363073, 18], [0.012097935332832746, 0, 0.07126157145716254, 0.9196436303456657, 0.9928502455809681, 6], [0.0, 0, 0.0, 0.9, 0.99, 6], [0.0, 0, 0.0, 0.9, 1.0, 6], [0.0, 0, 0.0, 0.9, 0.99, 6], [0.0, 0, 0.0, 1.0, 0.99, 6], [2.7755575615628915e-18, 0, 0.0, 0.9, 0.99, 6], [0.1, 0, 0.0, 0.9, 0.99, 6], [0.0009368154945630816, 0, 0.011718121350557945, 0.9286878355153722, 0.9997021953974703, 6], [0.0, 0, 0.0, 0.9, 0.99, 6], [0.0, 0, 0.0, 0.9, 0.99, 6], [0.02520923977836181, 0, 0.0015444686514237476, 0.9202499944885523, 0.9998443241064058, 6], [0.0, 0, 0.0, 0.9, 0.99, 6], [0.0, 0, 0.0, 0.9, 0.99, 6], [0.0026514444198194606, 0, 0.07098616581076268, 0.900622756157581, 0.9940017134911108, 6], [0.0037928582224079806, 0, 0.0897441445193247, 0.9043126024920738, 0.9963829978941721, 6], [0.07032994907232834, 0, 0.00051028076354398, 0.914924809697747, 0.9999775013537306, 6], [0.016072268364289138, 0, 0.011873873009296203, 0.9047672580898893, 0.9977980413505433, 6], [0.0, 0, 0.0, 0.9, 0.99, 6], [0.011549208357816823, 0, 0.004756656225336799, 0.9026705228420644, 0.9904231061551908, 6], [0.0, 0, 0.0, 0.9, 0.99, 6]]"
      ]
     },
     "execution_count": 31,
     "metadata": {},
     "output_type": "execute_result"
    }
   ],
   "source": [
    "skopt.gp_minimize(f,config,n_calls=30)"
   ]
  },
  {
   "cell_type": "code",
   "execution_count": 33,
   "metadata": {},
   "outputs": [
    {
     "data": {
      "image/png": "[encoded data removed]",
      "text/plain": [
       "<Figure size 864x864 with 36 Axes>"
      ]
     },
     "metadata": {
      "needs_background": "light"
     },
     "output_type": "display_data"
    }
   ],
   "source": [
    "coucou3\n",
    "from skopt.plots import plot_objective\n",
    "_ = plot_objective(coucou3, n_points=10)"
   ]
  },
  {
   "cell_type": "code",
   "execution_count": null,
   "metadata": {},
   "outputs": [],
   "source": []
  },
  {
   "cell_type": "code",
   "execution_count": null,
   "metadata": {},
   "outputs": [],
   "source": []
  },
  {
   "cell_type": "code",
   "execution_count": null,
   "metadata": {},
   "outputs": [],
   "source": []
  },
  {
   "cell_type": "code",
   "execution_count": 29,
   "metadata": {},
   "outputs": [
    {
     "name": "stdout",
     "output_type": "stream",
     "text": [
      "100%|██████████| 2200/2200 [02:18<00:00, 15.92trial/s, best loss: 0.02389664275973451] \n",
      "Total Time : 138.1840374469757\n"
     ]
    },
    {
     "ename": "NameError",
     "evalue": "name 'total_iterations' is not defined",
     "output_type": "error",
     "traceback": [
      "\u001b[0;31m---------------------------------------------------------------------------\u001b[0m",
      "\u001b[0;31mNameError\u001b[0m                                 Traceback (most recent call last)",
      "\u001b[0;32m<ipython-input-29-a4bae9effe4a>\u001b[0m in \u001b[0;36m<module>\u001b[0;34m\u001b[0m\n\u001b[1;32m     10\u001b[0m     \u001b[0moracle\u001b[0m \u001b[0;34m=\u001b[0m \u001b[0moracles\u001b[0m\u001b[0;34m.\u001b[0m\u001b[0mGuesser\u001b[0m\u001b[0;34m(\u001b[0m\u001b[0mconfig\u001b[0m\u001b[0;34m,\u001b[0m\u001b[0;36m0\u001b[0m\u001b[0;34m)\u001b[0m\u001b[0;34m\u001b[0m\u001b[0;34m\u001b[0m\u001b[0m\n\u001b[1;32m     11\u001b[0m     \u001b[0mstart_time\u001b[0m \u001b[0;34m=\u001b[0m \u001b[0mtime\u001b[0m\u001b[0;34m.\u001b[0m\u001b[0mtime\u001b[0m\u001b[0;34m(\u001b[0m\u001b[0;34m)\u001b[0m\u001b[0;34m\u001b[0m\u001b[0;34m\u001b[0m\u001b[0m\n\u001b[0;32m---> 12\u001b[0;31m     \u001b[0mscheduler\u001b[0m \u001b[0;34m=\u001b[0m \u001b[0mschedulers\u001b[0m\u001b[0;34m.\u001b[0m\u001b[0mScheduler\u001b[0m\u001b[0;34m(\u001b[0m\u001b[0mmodel\u001b[0m\u001b[0;34m,\u001b[0m \u001b[0mtotal_iterations\u001b[0m\u001b[0;34m,\u001b[0m \u001b[0mn_configurations\u001b[0m\u001b[0;34m,\u001b[0m \u001b[0moracle\u001b[0m\u001b[0;34m,\u001b[0m\u001b[0;36m1\u001b[0m\u001b[0;34m/\u001b[0m\u001b[0;36m2\u001b[0m\u001b[0;34m,\u001b[0m\u001b[0;32mTrue\u001b[0m\u001b[0;34m,\u001b[0m\u001b[0;36m1e100\u001b[0m\u001b[0;34m)\u001b[0m\u001b[0;34m\u001b[0m\u001b[0;34m\u001b[0m\u001b[0m\n\u001b[0m\u001b[1;32m     13\u001b[0m     \u001b[0mscheduler\u001b[0m\u001b[0;34m.\u001b[0m\u001b[0minitialisation\u001b[0m\u001b[0;34m(\u001b[0m\u001b[0;34m)\u001b[0m\u001b[0;34m\u001b[0m\u001b[0;34m\u001b[0m\u001b[0m\n\u001b[1;32m     14\u001b[0m     \u001b[0mscheduler\u001b[0m\u001b[0;34m.\u001b[0m\u001b[0mloop\u001b[0m\u001b[0;34m(\u001b[0m\u001b[0;34m)\u001b[0m\u001b[0;34m\u001b[0m\u001b[0;34m\u001b[0m\u001b[0m\n",
      "\u001b[0;31mNameError\u001b[0m: name 'total_iterations' is not defined"
     ]
    }
   ],
   "source": [
    "for _ in range(1):\n",
    "    oracle = BayesOpt(config)\n",
    "    start_time = time.time()\n",
    "    oracle.compute_Once(function)\n",
    "    print(\"Total Time : \" +  str(time.time() - start_time))\n",
    "\n",
    "for _ in range(9):\n",
    "\n",
    "    model = datasets.TrainBoston #(model_config, \"LeNet\")\n",
    "    oracle = oracles.Guesser(config,0)\n",
    "    start_time = time.time()\n",
    "    scheduler = schedulers.Scheduler(model, total_iterations, n_configurations, oracle,1/2,True,1e100)\n",
    "    scheduler.initialisation()\n",
    "    scheduler.loop()\n",
    "    print(\"Total Time : \" +  str(time.time() - start_time))\n",
    " "
   ]
  },
  {
   "cell_type": "code",
   "execution_count": 28,
   "metadata": {},
   "outputs": [],
   "source": [
    "import numpy as np\n",
    "from functools import *\n",
    "\n",
    "evals = 2200\n",
    "crypt = np.zeros(evals)\n",
    "def function(x):\n",
    "   # print(x)\n",
    "    model = datasets.TrainBoston(x)\n",
    " #   a,b,c = schedulers.create_Boston()\n",
    "    for _ in range(5):\n",
    "        model.train1()\n",
    "        loss = model.test1()\n",
    "        test = model.val1()\n",
    "        temp = dict(x)\n",
    "        temp.update({'loss' : loss})\n",
    "        temp.update({'test' : test})\n",
    "        temp.update({'iteration' :  model.i})\n",
    "\n",
    "        hyperlogger.on_result(temp)\n",
    "    return -loss\n",
    "\n",
    "class BayesOpt():\n",
    "    def __init__(self, searchspace ):\n",
    "        self.searchspace = searchspace\n",
    "\n",
    "    def compute_Once(self,function): \n",
    "        fmin(function, self.searchspace, algo=partial(rand.suggest), max_evals=evals, trials=Trials())\n",
    "    \n",
    "config= {\n",
    "     \"lr\": hp.uniform(\"lr\",0,.1),\n",
    "     \"droupout_prob\": hp.uniform(\"droupout_prob\",0,1),\n",
    "     \"weight_decay\": hp.uniform(\"weight_decay\",0,.1),\n",
    "    \"b1\" : hp.uniform(\"b1\",0.9, 1),\n",
    "    \"b2\" : hp.uniform(\"b2\",0.99, 1),\n",
    "    \"eps\" : hp.uniform(\"eps\",6,20)\n",
    "    \n",
    "}\n",
    "oracle = BayesOpt(config)"
   ]
  },
  {
   "cell_type": "code",
   "execution_count": 25,
   "metadata": {},
   "outputs": [],
   "source": [
    "from ray import tune\n",
    "from ray.tune.logger import *\n",
    "class HyperLogger(tune.logger.Logger):\n",
    "    def _init(self):\n",
    "        progress_file = os.path.join(\"\", \"random_Boston.csv\")\n",
    "        self._continuing = os.path.exists(progress_file)\n",
    "        self._file = open(progress_file, \"a\")\n",
    "        self._csv_out = None\n",
    "    def on_result(self, result):\n",
    "        tmp = result.copy()\n",
    "        result = flatten_dict(tmp, delimiter=\"/\")\n",
    "        if self._csv_out is None:\n",
    "            self._csv_out = csv.DictWriter(self._file, result.keys())\n",
    "            self._csv_out.writeheader()\n",
    "\n",
    "            #if not self._continuing:\n",
    "        self._csv_out.writerow(\n",
    "            {k: v\n",
    "             for k, v in result.items() if k in self._csv_out.fieldnames})\n",
    "        self._file.flush()\n",
    "                   \n",
    "hyperlogger = HyperLogger(config,\"\")\n",
    "\n",
    "  \n"
   ]
  },
  {
   "cell_type": "code",
   "execution_count": 21,
   "metadata": {},
   "outputs": [
    {
     "data": {
      "text/plain": [
       "<module 'ray.tune.logger' from '/home/antoine/anaconda3/lib/python3.7/site-packages/ray/tune/logger.py'>"
      ]
     },
     "execution_count": 21,
     "metadata": {},
     "output_type": "execute_result"
    },
    {
     "name": "stderr",
     "output_type": "stream",
     "text": [
      "2021-04-08 10:05:38,181\tWARNING worker.py:1107 -- The node with node id 3b3646c2f2db4beffb8f650b6f949066debc8ad0865e45ccaffbadf7 has been marked dead because the detector has missed too many heartbeats from it. This can happen when a raylet crashes unexpectedly or has lagging heartbeats.\n",
      "\u001b[2m\u001b[33m(raylet)\u001b[0m [2021-04-08 10:06:29,898 C 26370 26370] node_manager.cc:423: This node has beem marked as dead.\n",
      "\u001b[2m\u001b[33m(raylet)\u001b[0m [2021-04-08 10:06:29,898 E 26370 26370] logging.cc:415: *** Aborted at 1617869189 (unix time) try \"date -d @1617869189\" if you are using GNU date ***\n",
      "\u001b[2m\u001b[33m(raylet)\u001b[0m [2021-04-08 10:06:29,899 E 26370 26370] logging.cc:415: PC: @                0x0 (unknown)\n",
      "\u001b[2m\u001b[33m(raylet)\u001b[0m [2021-04-08 10:06:29,901 E 26370 26370] logging.cc:415: *** SIGABRT (@0x3e800006702) received by PID 26370 (TID 0x7fcb07b70800) from PID 26370; stack trace: ***\n",
      "\u001b[2m\u001b[33m(raylet)\u001b[0m [2021-04-08 10:06:29,902 E 26370 26370] logging.cc:415:     @     0x55b81a6de9ef google::(anonymous namespace)::FailureSignalHandler()\n",
      "\u001b[2m\u001b[33m(raylet)\u001b[0m [2021-04-08 10:06:29,903 E 26370 26370] logging.cc:415:     @     0x7fcb07762980 (unknown)\n",
      "\u001b[2m\u001b[33m(raylet)\u001b[0m [2021-04-08 10:06:29,903 E 26370 26370] logging.cc:415:     @     0x7fcb06856fb7 gsignal\n",
      "\u001b[2m\u001b[33m(raylet)\u001b[0m [2021-04-08 10:06:29,904 E 26370 26370] logging.cc:415:     @     0x7fcb06858921 abort\n",
      "\u001b[2m\u001b[33m(raylet)\u001b[0m [2021-04-08 10:06:29,904 E 26370 26370] logging.cc:415:     @     0x55b81a27ce9c _ZN3ray6RayLogD2Ev.cold\n",
      "\u001b[2m\u001b[33m(raylet)\u001b[0m [2021-04-08 10:06:29,905 E 26370 26370] logging.cc:415:     @     0x55b81a34b748 _ZNSt17_Function_handlerIFvN3ray6StatusEEZNS0_6raylet11NodeManager9HeartbeatEvEUlS1_E_E9_M_invokeERKSt9_Any_dataOS1_\n",
      "\u001b[2m\u001b[33m(raylet)\u001b[0m [2021-04-08 10:06:29,905 E 26370 26370] logging.cc:415:     @     0x55b81a4468f4 _ZNSt17_Function_handlerIFvRKN3ray6StatusERKNS0_3rpc20ReportHeartbeatReplyEEZNS0_3gcs28ServiceBasedNodeInfoAccessor20AsyncReportHeartbeatERKSt10shared_ptrINS4_18HeartbeatTableDataEERKSt8functionIFvS1_EEEUlS3_S7_E_E9_M_invokeERKSt9_Any_dataS3_S7_\n",
      "\u001b[2m\u001b[33m(raylet)\u001b[0m [2021-04-08 10:06:29,907 E 26370 26370] logging.cc:415:     @     0x55b81a4469f1 _ZNSt17_Function_handlerIFvRKN3ray6StatusERKNS0_3rpc20ReportHeartbeatReplyEEZNS4_12GcsRpcClient15ReportHeartbeatERKNS4_22ReportHeartbeatRequestERKSt8functionIS8_EEUlS3_S7_E_E9_M_invokeERKSt9_Any_dataS3_S7_\n",
      "\u001b[2m\u001b[33m(raylet)\u001b[0m [2021-04-08 10:06:29,908 E 26370 26370] logging.cc:415:     @     0x55b81a44b04f ray::rpc::ClientCallImpl<>::OnReplyReceived()\n",
      "\u001b[2m\u001b[33m(raylet)\u001b[0m [2021-04-08 10:06:29,909 E 26370 26370] logging.cc:415:     @     0x55b81a33b772 _ZN5boost4asio6detail18completion_handlerIZN3ray3rpc17ClientCallManager29PollEventsFromCompletionQueueEiEUlvE_E11do_completeEPvPNS1_19scheduler_operationERKNS_6system10error_codeEm\n",
      "\u001b[2m\u001b[33m(raylet)\u001b[0m [2021-04-08 10:06:29,913 E 26370 26370] logging.cc:415:     @     0x55b81aa4d301 boost::asio::detail::scheduler::do_run_one()\n",
      "\u001b[2m\u001b[33m(raylet)\u001b[0m [2021-04-08 10:06:29,915 E 26370 26370] logging.cc:415:     @     0x55b81aa4e9a9 boost::asio::detail::scheduler::run()\n",
      "\u001b[2m\u001b[33m(raylet)\u001b[0m [2021-04-08 10:06:29,916 E 26370 26370] logging.cc:415:     @     0x55b81aa50e97 boost::asio::io_context::run()\n",
      "\u001b[2m\u001b[33m(raylet)\u001b[0m [2021-04-08 10:06:29,917 E 26370 26370] logging.cc:415:     @     0x55b81a298ce2 main\n",
      "\u001b[2m\u001b[33m(raylet)\u001b[0m [2021-04-08 10:06:29,917 E 26370 26370] logging.cc:415:     @     0x7fcb06839bf7 __libc_start_main\n",
      "\u001b[2m\u001b[33m(raylet)\u001b[0m [2021-04-08 10:06:29,919 E 26370 26370] logging.cc:415:     @     0x55b81a2adda5 (unknown)\n",
      "\u001b[2m\u001b[33m(raylet)\u001b[0m [2021-04-08 10:06:29,898 C 26370 26370] node_manager.cc:423: This node has beem marked as dead.\n",
      "\u001b[2m\u001b[33m(raylet)\u001b[0m [2021-04-08 10:06:29,898 E 26370 26370] logging.cc:415: *** Aborted at 1617869189 (unix time) try \"date -d @1617869189\" if you are using GNU date ***\n",
      "\u001b[2m\u001b[33m(raylet)\u001b[0m [2021-04-08 10:06:29,899 E 26370 26370] logging.cc:415: PC: @                0x0 (unknown)\n",
      "\u001b[2m\u001b[33m(raylet)\u001b[0m [2021-04-08 10:06:29,901 E 26370 26370] logging.cc:415: *** SIGABRT (@0x3e800006702) received by PID 26370 (TID 0x7fcb07b70800) from PID 26370; stack trace: ***\n",
      "\u001b[2m\u001b[33m(raylet)\u001b[0m [2021-04-08 10:06:29,902 E 26370 26370] logging.cc:415:     @     0x55b81a6de9ef google::(anonymous namespace)::FailureSignalHandler()\n",
      "\u001b[2m\u001b[33m(raylet)\u001b[0m [2021-04-08 10:06:29,903 E 26370 26370] logging.cc:415:     @     0x7fcb07762980 (unknown)\n",
      "\u001b[2m\u001b[33m(raylet)\u001b[0m [2021-04-08 10:06:29,903 E 26370 26370] logging.cc:415:     @     0x7fcb06856fb7 gsignal\n",
      "\u001b[2m\u001b[33m(raylet)\u001b[0m [2021-04-08 10:06:29,904 E 26370 26370] logging.cc:415:     @     0x7fcb06858921 abort\n",
      "\u001b[2m\u001b[33m(raylet)\u001b[0m [2021-04-08 10:06:29,904 E 26370 26370] logging.cc:415:     @     0x55b81a27ce9c _ZN3ray6RayLogD2Ev.cold\n",
      "\u001b[2m\u001b[33m(raylet)\u001b[0m [2021-04-08 10:06:29,905 E 26370 26370] logging.cc:415:     @     0x55b81a34b748 _ZNSt17_Function_handlerIFvN3ray6StatusEEZNS0_6raylet11NodeManager9HeartbeatEvEUlS1_E_E9_M_invokeERKSt9_Any_dataOS1_\n",
      "\u001b[2m\u001b[33m(raylet)\u001b[0m [2021-04-08 10:06:29,905 E 26370 26370] logging.cc:415:     @     0x55b81a4468f4 _ZNSt17_Function_handlerIFvRKN3ray6StatusERKNS0_3rpc20ReportHeartbeatReplyEEZNS0_3gcs28ServiceBasedNodeInfoAccessor20AsyncReportHeartbeatERKSt10shared_ptrINS4_18HeartbeatTableDataEERKSt8functionIFvS1_EEEUlS3_S7_E_E9_M_invokeERKSt9_Any_dataS3_S7_\n",
      "\u001b[2m\u001b[33m(raylet)\u001b[0m [2021-04-08 10:06:29,907 E 26370 26370] logging.cc:415:     @     0x55b81a4469f1 _ZNSt17_Function_handlerIFvRKN3ray6StatusERKNS0_3rpc20ReportHeartbeatReplyEEZNS4_12GcsRpcClient15ReportHeartbeatERKNS4_22ReportHeartbeatRequestERKSt8functionIS8_EEUlS3_S7_E_E9_M_invokeERKSt9_Any_dataS3_S7_\n",
      "\u001b[2m\u001b[33m(raylet)\u001b[0m [2021-04-08 10:06:29,908 E 26370 26370] logging.cc:415:     @     0x55b81a44b04f ray::rpc::ClientCallImpl<>::OnReplyReceived()\n",
      "\u001b[2m\u001b[33m(raylet)\u001b[0m [2021-04-08 10:06:29,909 E 26370 26370] logging.cc:415:     @     0x55b81a33b772 _ZN5boost4asio6detail18completion_handlerIZN3ray3rpc17ClientCallManager29PollEventsFromCompletionQueueEiEUlvE_E11do_completeEPvPNS1_19scheduler_operationERKNS_6system10error_codeEm\n",
      "\u001b[2m\u001b[33m(raylet)\u001b[0m [2021-04-08 10:06:29,913 E 26370 26370] logging.cc:415:     @     0x55b81aa4d301 boost::asio::detail::scheduler::do_run_one()\n",
      "\u001b[2m\u001b[33m(raylet)\u001b[0m [2021-04-08 10:06:29,915 E 26370 26370] logging.cc:415:     @     0x55b81aa4e9a9 boost::asio::detail::scheduler::run()\n",
      "\u001b[2m\u001b[33m(raylet)\u001b[0m [2021-04-08 10:06:29,916 E 26370 26370] logging.cc:415:     @     0x55b81aa50e97 boost::asio::io_context::run()\n",
      "\u001b[2m\u001b[33m(raylet)\u001b[0m [2021-04-08 10:06:29,917 E 26370 26370] logging.cc:415:     @     0x55b81a298ce2 main\n",
      "\u001b[2m\u001b[33m(raylet)\u001b[0m [2021-04-08 10:06:29,917 E 26370 26370] logging.cc:415:     @     0x7fcb06839bf7 __libc_start_main\n",
      "\u001b[2m\u001b[33m(raylet)\u001b[0m [2021-04-08 10:06:29,919 E 26370 26370] logging.cc:415:     @     0x55b81a2adda5 (unknown)\n",
      "\u001b[2m\u001b[33m(raylet)\u001b[0m [2021-04-08 10:06:29,898 C 26370 26370] node_manager.cc:423: This node has beem marked as dead.\n",
      "\u001b[2m\u001b[33m(raylet)\u001b[0m [2021-04-08 10:06:29,898 E 26370 26370] logging.cc:415: *** Aborted at 1617869189 (unix time) try \"date -d @1617869189\" if you are using GNU date ***\n",
      "\u001b[2m\u001b[33m(raylet)\u001b[0m [2021-04-08 10:06:29,899 E 26370 26370] logging.cc:415: PC: @                0x0 (unknown)\n",
      "\u001b[2m\u001b[33m(raylet)\u001b[0m [2021-04-08 10:06:29,901 E 26370 26370] logging.cc:415: *** SIGABRT (@0x3e800006702) received by PID 26370 (TID 0x7fcb07b70800) from PID 26370; stack trace: ***\n",
      "\u001b[2m\u001b[33m(raylet)\u001b[0m [2021-04-08 10:06:29,902 E 26370 26370] logging.cc:415:     @     0x55b81a6de9ef google::(anonymous namespace)::FailureSignalHandler()\n",
      "\u001b[2m\u001b[33m(raylet)\u001b[0m [2021-04-08 10:06:29,903 E 26370 26370] logging.cc:415:     @     0x7fcb07762980 (unknown)\n",
      "\u001b[2m\u001b[33m(raylet)\u001b[0m [2021-04-08 10:06:29,903 E 26370 26370] logging.cc:415:     @     0x7fcb06856fb7 gsignal\n",
      "\u001b[2m\u001b[33m(raylet)\u001b[0m [2021-04-08 10:06:29,904 E 26370 26370] logging.cc:415:     @     0x7fcb06858921 abort\n",
      "\u001b[2m\u001b[33m(raylet)\u001b[0m [2021-04-08 10:06:29,904 E 26370 26370] logging.cc:415:     @     0x55b81a27ce9c _ZN3ray6RayLogD2Ev.cold\n",
      "\u001b[2m\u001b[33m(raylet)\u001b[0m [2021-04-08 10:06:29,905 E 26370 26370] logging.cc:415:     @     0x55b81a34b748 _ZNSt17_Function_handlerIFvN3ray6StatusEEZNS0_6raylet11NodeManager9HeartbeatEvEUlS1_E_E9_M_invokeERKSt9_Any_dataOS1_\n",
      "\u001b[2m\u001b[33m(raylet)\u001b[0m [2021-04-08 10:06:29,905 E 26370 26370] logging.cc:415:     @     0x55b81a4468f4 _ZNSt17_Function_handlerIFvRKN3ray6StatusERKNS0_3rpc20ReportHeartbeatReplyEEZNS0_3gcs28ServiceBasedNodeInfoAccessor20AsyncReportHeartbeatERKSt10shared_ptrINS4_18HeartbeatTableDataEERKSt8functionIFvS1_EEEUlS3_S7_E_E9_M_invokeERKSt9_Any_dataS3_S7_\n",
      "\u001b[2m\u001b[33m(raylet)\u001b[0m [2021-04-08 10:06:29,907 E 26370 26370] logging.cc:415:     @     0x55b81a4469f1 _ZNSt17_Function_handlerIFvRKN3ray6StatusERKNS0_3rpc20ReportHeartbeatReplyEEZNS4_12GcsRpcClient15ReportHeartbeatERKNS4_22ReportHeartbeatRequestERKSt8functionIS8_EEUlS3_S7_E_E9_M_invokeERKSt9_Any_dataS3_S7_\n",
      "\u001b[2m\u001b[33m(raylet)\u001b[0m [2021-04-08 10:06:29,908 E 26370 26370] logging.cc:415:     @     0x55b81a44b04f ray::rpc::ClientCallImpl<>::OnReplyReceived()\n",
      "\u001b[2m\u001b[33m(raylet)\u001b[0m [2021-04-08 10:06:29,909 E 26370 26370] logging.cc:415:     @     0x55b81a33b772 _ZN5boost4asio6detail18completion_handlerIZN3ray3rpc17ClientCallManager29PollEventsFromCompletionQueueEiEUlvE_E11do_completeEPvPNS1_19scheduler_operationERKNS_6system10error_codeEm\n",
      "\u001b[2m\u001b[33m(raylet)\u001b[0m [2021-04-08 10:06:29,913 E 26370 26370] logging.cc:415:     @     0x55b81aa4d301 boost::asio::detail::scheduler::do_run_one()\n",
      "\u001b[2m\u001b[33m(raylet)\u001b[0m [2021-04-08 10:06:29,915 E 26370 26370] logging.cc:415:     @     0x55b81aa4e9a9 boost::asio::detail::scheduler::run()\n",
      "\u001b[2m\u001b[33m(raylet)\u001b[0m [2021-04-08 10:06:29,916 E 26370 26370] logging.cc:415:     @     0x55b81aa50e97 boost::asio::io_context::run()\n",
      "\u001b[2m\u001b[33m(raylet)\u001b[0m [2021-04-08 10:06:29,917 E 26370 26370] logging.cc:415:     @     0x55b81a298ce2 main\n",
      "\u001b[2m\u001b[33m(raylet)\u001b[0m [2021-04-08 10:06:29,917 E 26370 26370] logging.cc:415:     @     0x7fcb06839bf7 __libc_start_main\n",
      "\u001b[2m\u001b[33m(raylet)\u001b[0m [2021-04-08 10:06:29,919 E 26370 26370] logging.cc:415:     @     0x55b81a2adda5 (unknown)\n",
      "\u001b[2m\u001b[33m(raylet)\u001b[0m [2021-04-08 10:06:29,898 C 26370 26370] node_manager.cc:423: This node has beem marked as dead.\n",
      "\u001b[2m\u001b[33m(raylet)\u001b[0m [2021-04-08 10:06:29,898 E 26370 26370] logging.cc:415: *** Aborted at 1617869189 (unix time) try \"date -d @1617869189\" if you are using GNU date ***\n",
      "\u001b[2m\u001b[33m(raylet)\u001b[0m [2021-04-08 10:06:29,899 E 26370 26370] logging.cc:415: PC: @                0x0 (unknown)\n",
      "\u001b[2m\u001b[33m(raylet)\u001b[0m [2021-04-08 10:06:29,901 E 26370 26370] logging.cc:415: *** SIGABRT (@0x3e800006702) received by PID 26370 (TID 0x7fcb07b70800) from PID 26370; stack trace: ***\n",
      "\u001b[2m\u001b[33m(raylet)\u001b[0m [2021-04-08 10:06:29,902 E 26370 26370] logging.cc:415:     @     0x55b81a6de9ef google::(anonymous namespace)::FailureSignalHandler()\n",
      "\u001b[2m\u001b[33m(raylet)\u001b[0m [2021-04-08 10:06:29,903 E 26370 26370] logging.cc:415:     @     0x7fcb07762980 (unknown)\n",
      "\u001b[2m\u001b[33m(raylet)\u001b[0m [2021-04-08 10:06:29,903 E 26370 26370] logging.cc:415:     @     0x7fcb06856fb7 gsignal\n",
      "\u001b[2m\u001b[33m(raylet)\u001b[0m [2021-04-08 10:06:29,904 E 26370 26370] logging.cc:415:     @     0x7fcb06858921 abort\n",
      "\u001b[2m\u001b[33m(raylet)\u001b[0m [2021-04-08 10:06:29,904 E 26370 26370] logging.cc:415:     @     0x55b81a27ce9c _ZN3ray6RayLogD2Ev.cold\n",
      "\u001b[2m\u001b[33m(raylet)\u001b[0m [2021-04-08 10:06:29,905 E 26370 26370] logging.cc:415:     @     0x55b81a34b748 _ZNSt17_Function_handlerIFvN3ray6StatusEEZNS0_6raylet11NodeManager9HeartbeatEvEUlS1_E_E9_M_invokeERKSt9_Any_dataOS1_\n",
      "\u001b[2m\u001b[33m(raylet)\u001b[0m [2021-04-08 10:06:29,905 E 26370 26370] logging.cc:415:     @     0x55b81a4468f4 _ZNSt17_Function_handlerIFvRKN3ray6StatusERKNS0_3rpc20ReportHeartbeatReplyEEZNS0_3gcs28ServiceBasedNodeInfoAccessor20AsyncReportHeartbeatERKSt10shared_ptrINS4_18HeartbeatTableDataEERKSt8functionIFvS1_EEEUlS3_S7_E_E9_M_invokeERKSt9_Any_dataS3_S7_\n",
      "\u001b[2m\u001b[33m(raylet)\u001b[0m [2021-04-08 10:06:29,907 E 26370 26370] logging.cc:415:     @     0x55b81a4469f1 _ZNSt17_Function_handlerIFvRKN3ray6StatusERKNS0_3rpc20ReportHeartbeatReplyEEZNS4_12GcsRpcClient15ReportHeartbeatERKNS4_22ReportHeartbeatRequestERKSt8functionIS8_EEUlS3_S7_E_E9_M_invokeERKSt9_Any_dataS3_S7_\n",
      "\u001b[2m\u001b[33m(raylet)\u001b[0m [2021-04-08 10:06:29,908 E 26370 26370] logging.cc:415:     @     0x55b81a44b04f ray::rpc::ClientCallImpl<>::OnReplyReceived()\n",
      "\u001b[2m\u001b[33m(raylet)\u001b[0m [2021-04-08 10:06:29,909 E 26370 26370] logging.cc:415:     @     0x55b81a33b772 _ZN5boost4asio6detail18completion_handlerIZN3ray3rpc17ClientCallManager29PollEventsFromCompletionQueueEiEUlvE_E11do_completeEPvPNS1_19scheduler_operationERKNS_6system10error_codeEm\n",
      "\u001b[2m\u001b[33m(raylet)\u001b[0m [2021-04-08 10:06:29,913 E 26370 26370] logging.cc:415:     @     0x55b81aa4d301 boost::asio::detail::scheduler::do_run_one()\n",
      "\u001b[2m\u001b[33m(raylet)\u001b[0m [2021-04-08 10:06:29,915 E 26370 26370] logging.cc:415:     @     0x55b81aa4e9a9 boost::asio::detail::scheduler::run()\n",
      "\u001b[2m\u001b[33m(raylet)\u001b[0m [2021-04-08 10:06:29,916 E 26370 26370] logging.cc:415:     @     0x55b81aa50e97 boost::asio::io_context::run()\n",
      "\u001b[2m\u001b[33m(raylet)\u001b[0m [2021-04-08 10:06:29,917 E 26370 26370] logging.cc:415:     @     0x55b81a298ce2 main\n",
      "\u001b[2m\u001b[33m(raylet)\u001b[0m [2021-04-08 10:06:29,917 E 26370 26370] logging.cc:415:     @     0x7fcb06839bf7 __libc_start_main\n",
      "\u001b[2m\u001b[33m(raylet)\u001b[0m [2021-04-08 10:06:29,919 E 26370 26370] logging.cc:415:     @     0x55b81a2adda5 (unknown)\n",
      "\u001b[2m\u001b[33m(raylet)\u001b[0m [2021-04-08 10:06:29,898 C 26370 26370] node_manager.cc:423: This node has beem marked as dead.\n",
      "\u001b[2m\u001b[33m(raylet)\u001b[0m [2021-04-08 10:06:29,898 E 26370 26370] logging.cc:415: *** Aborted at 1617869189 (unix time) try \"date -d @1617869189\" if you are using GNU date ***\n",
      "\u001b[2m\u001b[33m(raylet)\u001b[0m [2021-04-08 10:06:29,899 E 26370 26370] logging.cc:415: PC: @                0x0 (unknown)\n",
      "\u001b[2m\u001b[33m(raylet)\u001b[0m [2021-04-08 10:06:29,901 E 26370 26370] logging.cc:415: *** SIGABRT (@0x3e800006702) received by PID 26370 (TID 0x7fcb07b70800) from PID 26370; stack trace: ***\n",
      "\u001b[2m\u001b[33m(raylet)\u001b[0m [2021-04-08 10:06:29,902 E 26370 26370] logging.cc:415:     @     0x55b81a6de9ef google::(anonymous namespace)::FailureSignalHandler()\n",
      "\u001b[2m\u001b[33m(raylet)\u001b[0m [2021-04-08 10:06:29,903 E 26370 26370] logging.cc:415:     @     0x7fcb07762980 (unknown)\n",
      "\u001b[2m\u001b[33m(raylet)\u001b[0m [2021-04-08 10:06:29,903 E 26370 26370] logging.cc:415:     @     0x7fcb06856fb7 gsignal\n",
      "\u001b[2m\u001b[33m(raylet)\u001b[0m [2021-04-08 10:06:29,904 E 26370 26370] logging.cc:415:     @     0x7fcb06858921 abort\n",
      "\u001b[2m\u001b[33m(raylet)\u001b[0m [2021-04-08 10:06:29,904 E 26370 26370] logging.cc:415:     @     0x55b81a27ce9c _ZN3ray6RayLogD2Ev.cold\n",
      "\u001b[2m\u001b[33m(raylet)\u001b[0m [2021-04-08 10:06:29,905 E 26370 26370] logging.cc:415:     @     0x55b81a34b748 _ZNSt17_Function_handlerIFvN3ray6StatusEEZNS0_6raylet11NodeManager9HeartbeatEvEUlS1_E_E9_M_invokeERKSt9_Any_dataOS1_\n",
      "\u001b[2m\u001b[33m(raylet)\u001b[0m [2021-04-08 10:06:29,905 E 26370 26370] logging.cc:415:     @     0x55b81a4468f4 _ZNSt17_Function_handlerIFvRKN3ray6StatusERKNS0_3rpc20ReportHeartbeatReplyEEZNS0_3gcs28ServiceBasedNodeInfoAccessor20AsyncReportHeartbeatERKSt10shared_ptrINS4_18HeartbeatTableDataEERKSt8functionIFvS1_EEEUlS3_S7_E_E9_M_invokeERKSt9_Any_dataS3_S7_\n",
      "\u001b[2m\u001b[33m(raylet)\u001b[0m [2021-04-08 10:06:29,907 E 26370 26370] logging.cc:415:     @     0x55b81a4469f1 _ZNSt17_Function_handlerIFvRKN3ray6StatusERKNS0_3rpc20ReportHeartbeatReplyEEZNS4_12GcsRpcClient15ReportHeartbeatERKNS4_22ReportHeartbeatRequestERKSt8functionIS8_EEUlS3_S7_E_E9_M_invokeERKSt9_Any_dataS3_S7_\n",
      "\u001b[2m\u001b[33m(raylet)\u001b[0m [2021-04-08 10:06:29,908 E 26370 26370] logging.cc:415:     @     0x55b81a44b04f ray::rpc::ClientCallImpl<>::OnReplyReceived()\n",
      "\u001b[2m\u001b[33m(raylet)\u001b[0m [2021-04-08 10:06:29,909 E 26370 26370] logging.cc:415:     @     0x55b81a33b772 _ZN5boost4asio6detail18completion_handlerIZN3ray3rpc17ClientCallManager29PollEventsFromCompletionQueueEiEUlvE_E11do_completeEPvPNS1_19scheduler_operationERKNS_6system10error_codeEm\n",
      "\u001b[2m\u001b[33m(raylet)\u001b[0m [2021-04-08 10:06:29,913 E 26370 26370] logging.cc:415:     @     0x55b81aa4d301 boost::asio::detail::scheduler::do_run_one()\n",
      "\u001b[2m\u001b[33m(raylet)\u001b[0m [2021-04-08 10:06:29,915 E 26370 26370] logging.cc:415:     @     0x55b81aa4e9a9 boost::asio::detail::scheduler::run()\n",
      "\u001b[2m\u001b[33m(raylet)\u001b[0m [2021-04-08 10:06:29,916 E 26370 26370] logging.cc:415:     @     0x55b81aa50e97 boost::asio::io_context::run()\n",
      "\u001b[2m\u001b[33m(raylet)\u001b[0m [2021-04-08 10:06:29,917 E 26370 26370] logging.cc:415:     @     0x55b81a298ce2 main\n",
      "\u001b[2m\u001b[33m(raylet)\u001b[0m [2021-04-08 10:06:29,917 E 26370 26370] logging.cc:415:     @     0x7fcb06839bf7 __libc_start_main\n",
      "\u001b[2m\u001b[33m(raylet)\u001b[0m [2021-04-08 10:06:29,919 E 26370 26370] logging.cc:415:     @     0x55b81a2adda5 (unknown)\n"
     ]
    }
   ],
   "source": [
    "import ray.tune as tune\n",
    "tune.logger"
   ]
  },
  {
   "cell_type": "code",
   "execution_count": 14,
   "metadata": {
    "scrolled": false
   },
   "outputs": [
    {
     "ename": "ModuleNotFoundError",
     "evalue": "No module named 'tune.schedulers'",
     "output_type": "error",
     "traceback": [
      "\u001b[0;31m---------------------------------------------------------------------------\u001b[0m",
      "\u001b[0;31mModuleNotFoundError\u001b[0m                       Traceback (most recent call last)",
      "\u001b[0;32m<ipython-input-14-a83667c4600f>\u001b[0m in \u001b[0;36m<module>\u001b[0;34m\u001b[0m\n\u001b[1;32m      5\u001b[0m \u001b[0;34m\u001b[0m\u001b[0m\n\u001b[1;32m      6\u001b[0m \u001b[0;31m#from ray import tune\u001b[0m\u001b[0;34m\u001b[0m\u001b[0;34m\u001b[0m\u001b[0;34m\u001b[0m\u001b[0m\n\u001b[0;32m----> 7\u001b[0;31m \u001b[0;32mfrom\u001b[0m \u001b[0mtune\u001b[0m\u001b[0;34m.\u001b[0m\u001b[0mschedulers\u001b[0m\u001b[0;34m.\u001b[0m\u001b[0mpb2\u001b[0m \u001b[0;32mimport\u001b[0m \u001b[0mPB2\u001b[0m\u001b[0;34m\u001b[0m\u001b[0;34m\u001b[0m\u001b[0m\n\u001b[0m\u001b[1;32m      8\u001b[0m \u001b[0;32mfrom\u001b[0m \u001b[0mtune\u001b[0m\u001b[0;34m.\u001b[0m\u001b[0mschedulers\u001b[0m \u001b[0;32mimport\u001b[0m \u001b[0mPopulationBasedTraining\u001b[0m\u001b[0;34m\u001b[0m\u001b[0;34m\u001b[0m\u001b[0m\n\u001b[1;32m      9\u001b[0m \u001b[0;34m\u001b[0m\u001b[0m\n",
      "\u001b[0;31mModuleNotFoundError\u001b[0m: No module named 'tune.schedulers'"
     ]
    }
   ],
   "source": [
    "\n",
    "import argparse\n",
    "\n",
    "import ray\n",
    "\n",
    "#from ray import tune\n",
    "from ray.tune.schedulers.pb2 import PB2\n",
    "from ray.tune.schedulers import PopulationBasedTraining\n",
    "\n",
    "from ray.tune.examples.pbt_function import pbt_function\n",
    "\n",
    "for i in range(10):\n",
    "    class TestLogger(tune.logger.Logger):\n",
    "        def _init(self):\n",
    "            progress_file = os.path.join(path, \"Boston_PB2_\"+str(i)+\".csv\")\n",
    "            self._continuing = os.path.exists(progress_file)\n",
    "            self._file = open(progress_file, \"a\")\n",
    "            self._csv_out = None\n",
    "        def on_result(self, result):\n",
    "            tmp = result.copy()\n",
    "            result = flatten_dict(tmp, delimiter=\"/\")\n",
    "            if self._csv_out is None:\n",
    "                self._csv_out = csv.DictWriter(self._file, result.keys())\n",
    "                self._csv_out.writeheader()\n",
    "            self._csv_out.writerow(\n",
    "                {k: v\n",
    "                 for k, v in result.items() if k in self._csv_out.fieldnames})\n",
    "            self._file.flush()\n",
    "\n",
    "    parser = argparse.ArgumentParser()\n",
    "    parser.add_argument(\n",
    "        \"--smoke-test\", action=\"store_true\", help=\"Finish quickly for testing\")\n",
    "    args, _ = parser.parse_known_args()\n",
    "    ray.shutdown()\n",
    "    ray.init()  # force pausing to happen for test\n",
    "\n",
    "    epsilon = 1e-10\n",
    "    from ray.tune.suggest.hyperopt import HyperOptSearch\n",
    "    from ray.tune.suggest import ConcurrencyLimiter\n",
    "    from ray.tune.suggest.hebo import *\n",
    "    from ray.tune.suggest.hebo import HEBOSearch\n",
    "    \n",
    "    algo = HEBOSearch(metric=\"loss\",\n",
    "        mode=\"min\")\n",
    " #   algo = ConcurrencyLimiter(algo, max_concurrent=8)\n",
    "\n",
    "    pbt = PB2(\n",
    "        perturbation_interval=1,\n",
    "            time_attr=\"training_iteration\",\n",
    "\n",
    "        hyperparam_bounds={\n",
    "            # .\n",
    "     \"lr\": [0+epsilon, .1] #tune.uniform(1e-4, 0.1 ),#,1e-4), #*10\n",
    ",     \"weight_decay\":[0+epsilon, .1]#tune.uniform(1, 5)#,1e-4), #*10 et 0\n",
    ",     \"b1\": [.9, 1-epsilon]#,1e-4), #*10 et 0\n",
    " ,    \"b2\": [.99, 1-epsilon] #,1e-4), #*10 et 0\n",
    " ,    \"droupout_prob\": [0+epsilon, 1-epsilon]#,1e-4), #*10 et 0\n",
    "            ,\"eps\": [6,20]\n",
    "        })\n",
    "\n",
    "    analysis = tune.run(\n",
    "        train_boston_pb2,\n",
    "  checkpoint_at_end=True,\n",
    "        scheduler=pbt,\n",
    "        metric=\"loss\",\n",
    "        mode=\"min\",\n",
    "        search_alg = algo,\n",
    "        verbose=1,\n",
    "        stop={\n",
    "            \"training_iteration\": 5,\n",
    "        },\n",
    "        num_samples=72,\n",
    "  reuse_actors=True,\n",
    "loggers=[TestLogger],\n",
    "        \n",
    "          config= {\n",
    "  \"lr\":  tune.uniform(0+epsilon, .1) #tune.uniform(1e-4, 0.1 ),#,1e-4), #*10\n",
    "  ,     \"weight_decay\":tune.uniform(0+epsilon, .1)#tune.uniform(1, 5)#,1e-4), #*10 et 0\n",
    "  ,     \"b1\": tune.uniform(.9, 1-epsilon)#,1e-4), #*10 et 0\n",
    "  ,    \"b2\": tune.uniform(.99, 1-epsilon)#,1e-4), #*10 et 0\n",
    "  ,    \"droupout_prob\": tune.uniform(0+epsilon, 1-epsilon)#,1e-4), #*10 et 0\n",
    "    ,\"eps\": tune.uniform(6, 20)\n",
    "                      })\n",
    "\n",
    "    print(\"Best hyperparameters found were: \", analysis.best_config)"
   ]
  },
  {
   "cell_type": "code",
   "execution_count": 6,
   "metadata": {},
   "outputs": [],
   "source": [
    "from ray.tune.logger import *\n",
    "\n",
    "from sklearn import datasets as skl_datasets\n",
    "\n",
    "import torch.nn as nn\n",
    "import copy\n",
    "from torchvision import datasets as tv_datasets\n",
    "from torchvision import transforms as tv_transforms\n",
    "from torch.utils.data import DataLoader\n",
    "import torch\n",
    "import torch.nn as nn\n",
    "import torch.nn.functional as F\n",
    "\n",
    "import pandas as pd\n",
    "from sklearn import datasets as skl_datasets\n",
    "\n",
    "from sklearn.model_selection import train_test_split\n",
    "# custom imports from the same folder\n",
    "import models\n",
    "import torch.nn.functional as F\n",
    "class train_boston_pb2(tune.Trainable):\n",
    "    def setup(self, config):\n",
    "        self.config = { }\n",
    "        for key, value in config.items():\n",
    "            self.config[key] = value\n",
    "        config = self.config\n",
    "        \n",
    "        valid_ratio = 0.5\n",
    "        test_ratio = 0.2\n",
    "        data = skl_datasets.load_boston()\n",
    "\n",
    "        # importing the data into pandas dataframe\n",
    "        X = pd.DataFrame(data.data, columns=data.feature_names)\n",
    "        Y = pd.DataFrame(data.target, columns=[\"MEDV\"])\n",
    "\n",
    "        # normalizatoion of features\n",
    "        Y = Y.apply(lambda x: (x - x.mean()) / x.std())\n",
    "\n",
    "        #\n",
    "        X_train, X_test, y_train, y_test = train_test_split(X, Y, test_size=test_ratio, random_state=1234)\n",
    "        X_val, X_test, y_val, y_test = train_test_split(X_test, y_test, test_size=valid_ratio, random_state=1234)\n",
    "\n",
    "        split_data = [X_train, y_train, X_test, y_test, X_val, y_val]\n",
    "        x_train, y_train, x_test, y_test, x_val, y_val = [torch.tensor(x.values, dtype=torch.float) for x in split_data]\n",
    "        for x in split_data:\n",
    "            print(x.shape) \n",
    "        self.train_loader = torch.utils.data.DataLoader(\n",
    "            torch.utils.data.TensorDataset(x_train, y_train),\n",
    "            batch_size=100,\n",
    "            shuffle=True\n",
    "        )\n",
    "\n",
    "        self.test_loader = torch.utils.data.DataLoader(\n",
    "            torch.utils.data.TensorDataset(x_test, y_test),\n",
    "            batch_size=100,\n",
    "            shuffle=True\n",
    "        )\n",
    "\n",
    "        self.val_loader = torch.utils.data.DataLoader(\n",
    "            torch.utils.data.TensorDataset(x_val, y_val),\n",
    "            batch_size=100,\n",
    "            shuffle=True\n",
    "        )\n",
    "        self.i = 0\n",
    "        if True:\n",
    "            # many of the parameters are not even used in init\n",
    "            self.model = models.NeurNet(13,int(round(config.get(\"hidden_dim\",43))),1,\n",
    "                    int( round(config.get(\"n_layer\",1))),\n",
    "                    config.get(\"droupout_prob\",0.1) ,nn.functional.relu)\n",
    "        elif True:\n",
    "            raise NotImplementedError\n",
    "        elif True:\n",
    "            raise NotImplementedError\n",
    "        else:\n",
    "            raise ValueError(\"Model with name {} is not recognized.\".format(model_name))\n",
    "        \n",
    "        if config.get(\"b1\", 0.999)>=1:\n",
    "          temp = 1 - 1e-10\n",
    "        else:\n",
    "          temp = config.get(\"b1\", 0.999)\n",
    "                \n",
    "        if config.get(\"b2\", 0.999)>=1:\n",
    "          temp1 = 1 - 1e-10\n",
    "        else:\n",
    "          temp1 = config.get(\"b2\", 0.999)\n",
    "\n",
    "        # Method of Optimization\n",
    "        self.optimizer = torch.optim.Adam(\n",
    "            self.model.parameters(),\n",
    "            lr=config.get(\"lr\"), \n",
    "            betas=((config.get(\"b1\"), config.get(\"b2\"))),\n",
    "            eps=10 ** - (config.get(\"eps\")), \n",
    "            weight_decay=config.get(\"weight_decay\"), \n",
    "            amsgrad=True\n",
    "        )\n",
    "       \n",
    "        device = torch.device(\"cuda\" if torch.cuda.is_available() else \"cpu\")\n",
    "        self.model.to(device)\n",
    "\n",
    "    \n",
    "    def reset_config(self, config):\n",
    "        if \"lr\" in config:\n",
    "            for param_group in self.optimizer.param_groups:\n",
    "                param_group[\"lr\"] = config.get(\"lr\", 0.01)\n",
    "        if \"b1\" in config:\n",
    "            for param_group in self.optimizer.param_groups:\n",
    "                param_group[\"betas\"] = (\n",
    "                    (1-1e-10 if config.get(\"b1\", 0.999)>=1 else config.get(\"b1\", 0.999),(1-1e-10 if config.get(\"b2\", 0.999)>=1 else config.get(\"b2\", 0.999))))\n",
    "        if \"weight_decay\" in config:\n",
    "            for param_group in self.optimizer.param_groups:\n",
    "                param_group[\"weight_decay\"] = config.get(\"weight_decay\")\n",
    "        if \"eps\" in config:\n",
    "            for param_group in self.optimizer.param_groups:\n",
    "                param_group[\"eps\"] = 10**- config.get(\"eps\")\n",
    "        self.model.adapt(config.get(\"droupout_prob\", 0.5))\n",
    "\n",
    "        self.config = config\n",
    "        return True\n",
    "    \n",
    "# All NN models should have a function train1 and test1 that calls the common train and test defined above.\n",
    "# train1 and test1 is then used in the scheduler\n",
    "    def train1(self):\n",
    "      #  print(\"iteration: \" + str(self.i) )\n",
    "        self.i+=1\n",
    "        datasets.train(self.model, self.optimizer, torch.nn.MSELoss(), self.train_loader)\n",
    "\n",
    "\n",
    "    def val1(self):\n",
    "        return datasets.test(self.model,  self.val_loader,2)\n",
    "        \n",
    "    def test1(self):\n",
    "        return datasets.test(self.model, self.test_loader,2)\n",
    "\n",
    "    def step(self):\n",
    "        self.train1()\n",
    "        return {'loss' : self.val1(), 'test' : self.test1()}\n",
    "    \n",
    "    def save_checkpoint(self, checkpoint_dir):\n",
    "        path = os.path.join(checkpoint_dir, \"checkpoint\")\n",
    "        torch.save({\n",
    "            \"model\": self.model.state_dict(),\n",
    "            \"optim\": self.optimizer.state_dict(),\n",
    "\n",
    "        }, path)\n",
    "\n",
    "        return checkpoint_dir\n",
    "\n",
    "    def load_checkpoint(self, checkpoint_dir):\n",
    "        path = os.path.join(checkpoint_dir, \"checkpoint\")\n",
    "        checkpoint = torch.load(path)\n",
    "        self.model.load_state_dict(checkpoint[\"model\"])\n",
    "        self.optimizer.load_state_dict(checkpoint[\"optim\"])\n",
    "epsilon = 1e-10\n"
   ]
  },
  {
   "cell_type": "code",
   "execution_count": null,
   "metadata": {},
   "outputs": [],
   "source": []
  },
  {
   "cell_type": "code",
   "execution_count": null,
   "metadata": {},
   "outputs": [],
   "source": []
  },
  {
   "cell_type": "code",
   "execution_count": null,
   "metadata": {},
   "outputs": [],
   "source": []
  },
  {
   "cell_type": "code",
   "execution_count": null,
   "metadata": {},
   "outputs": [],
   "source": []
  },
  {
   "cell_type": "code",
   "execution_count": null,
   "metadata": {},
   "outputs": [],
   "source": []
  },
  {
   "cell_type": "code",
   "execution_count": null,
   "metadata": {},
   "outputs": [],
   "source": []
  },
  {
   "cell_type": "code",
   "execution_count": null,
   "metadata": {},
   "outputs": [],
   "source": []
  },
  {
   "cell_type": "code",
   "execution_count": null,
   "metadata": {},
   "outputs": [],
   "source": []
  },
  {
   "cell_type": "code",
   "execution_count": null,
   "metadata": {},
   "outputs": [],
   "source": []
  },
  {
   "cell_type": "code",
   "execution_count": null,
   "metadata": {},
   "outputs": [],
   "source": []
  },
  {
   "cell_type": "code",
   "execution_count": null,
   "metadata": {},
   "outputs": [],
   "source": []
  },
  {
   "cell_type": "code",
   "execution_count": null,
   "metadata": {},
   "outputs": [],
   "source": []
  },
  {
   "cell_type": "code",
   "execution_count": null,
   "metadata": {},
   "outputs": [],
   "source": []
  }
 ],
 "metadata": {
  "kernelspec": {
   "display_name": "Python 3",
   "language": "python",
   "name": "python3"
  },
  "language_info": {
   "codemirror_mode": {
    "name": "ipython",
    "version": 3
   },
   "file_extension": ".py",
   "mimetype": "text/x-python",
   "name": "python",
   "nbconvert_exporter": "python",
   "pygments_lexer": "ipython3",
   "version": "3.6.9"
  }
 },
 "nbformat": 4,
 "nbformat_minor": 2
}
