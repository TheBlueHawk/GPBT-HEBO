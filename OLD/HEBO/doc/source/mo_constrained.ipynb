{
 "cells": [
  {
   "cell_type": "markdown",
   "metadata": {},
   "source": [
    "# Advanced optimisation\n",
    "\n",
    "In this section, we show how HEBO can be used for constrained and multi-objective optimisation\n",
    "\n",
    "$$\n",
    "\\begin{array}{lll}\n",
    "\\text{minimize} && (f_1(x), \\dots, f_m(x)) \\\\\n",
    "\\text{s.t.}     && c_1(x) < 0 \\\\\n",
    "        ~       && c_2(x) < 0 \\\\\n",
    "                && \\dots \\\\\n",
    "                && c_n(x) < 0\n",
    "\\end{array}\n",
    "$$"
   ]
  },
  {
   "cell_type": "markdown",
   "metadata": {},
   "source": [
    "## Objective function\n",
    "\n",
    "We use benchmark functions from pymoo "
   ]
  },
  {
   "cell_type": "code",
   "execution_count": 1,
   "metadata": {},
   "outputs": [
    {
     "data": {
      "image/png": "[encoded data removed]",
      "text/plain": [
       "<Figure size 432x288 with 1 Axes>"
      ]
     },
     "metadata": {
      "needs_background": "light"
     },
     "output_type": "display_data"
    }
   ],
   "source": [
    "import numpy as np\n",
    "import torch\n",
    "import pandas as pd\n",
    "import matplotlib.pyplot as plt\n",
    "from pymoo.factory import get_problem\n",
    "from pymoo.util.plotting import plot\n",
    "from pymoo.util.dominator import Dominator\n",
    "\n",
    "\n",
    "problem = get_problem(\"zdt1\", n_var = 5)\n",
    "plot(problem.pareto_front())\n",
    "\n",
    "dim = problem.n_var\n",
    "num_obj = problem.n_obj\n",
    "num_constr = problem.n_constr"
   ]
  },
  {
   "cell_type": "markdown",
   "metadata": {},
   "source": [
    "We define a wrapper for our BO algorithm, the wrapper function takes in a `pd.DataFrame` and output an `np.ndarray` where left columns are objectives and constraint values are in right columns."
   ]
  },
  {
   "cell_type": "code",
   "execution_count": 2,
   "metadata": {},
   "outputs": [],
   "source": [
    "def obj(param : pd.DataFrame) -> np.ndarray:\n",
    "    names = ['x' + str(i) for i in range(problem.n_var)]\n",
    "    x   = param[names].values\n",
    "    out = {}\n",
    "    problem._evaluate(x,out)\n",
    "    o = out['F'].reshape(x.shape[0], num_obj)\n",
    "    if num_constr > 0:\n",
    "        c = out['G'].reshape(x.shape[0], num_constr)\n",
    "    else:\n",
    "        c = np.zeros((x.shape[0],0))\n",
    "    return np.hstack([o,c])\n",
    "\n",
    "def extract_pf(points : np.ndarray) -> np.ndarray:\n",
    "    dom_matrix = Dominator().calc_domination_matrix(points,None)\n",
    "    is_optimal = (dom_matrix >= 0).all(axis = 1)\n",
    "    return points[is_optimal]"
   ]
  },
  {
   "cell_type": "markdown",
   "metadata": {},
   "source": [
    "## Design space"
   ]
  },
  {
   "cell_type": "code",
   "execution_count": 3,
   "metadata": {},
   "outputs": [
    {
     "data": {
      "text/html": [
       "<div>\n",
       "<style scoped>\n",
       "    .dataframe tbody tr th:only-of-type {\n",
       "        vertical-align: middle;\n",
       "    }\n",
       "\n",
       "    .dataframe tbody tr th {\n",
       "        vertical-align: top;\n",
       "    }\n",
       "\n",
       "    .dataframe thead th {\n",
       "        text-align: right;\n",
       "    }\n",
       "</style>\n",
       "<table border=\"1\" class=\"dataframe\">\n",
       "  <thead>\n",
       "    <tr style=\"text-align: right;\">\n",
       "      <th></th>\n",
       "      <th>x0</th>\n",
       "      <th>x1</th>\n",
       "      <th>x2</th>\n",
       "      <th>x3</th>\n",
       "      <th>x4</th>\n",
       "    </tr>\n",
       "  </thead>\n",
       "  <tbody>\n",
       "    <tr>\n",
       "      <th>0</th>\n",
       "      <td>0.552404</td>\n",
       "      <td>0.423491</td>\n",
       "      <td>0.757016</td>\n",
       "      <td>0.320305</td>\n",
       "      <td>0.190718</td>\n",
       "    </tr>\n",
       "    <tr>\n",
       "      <th>1</th>\n",
       "      <td>0.529221</td>\n",
       "      <td>0.814676</td>\n",
       "      <td>0.024548</td>\n",
       "      <td>0.446910</td>\n",
       "      <td>0.966283</td>\n",
       "    </tr>\n",
       "    <tr>\n",
       "      <th>2</th>\n",
       "      <td>0.794715</td>\n",
       "      <td>0.599048</td>\n",
       "      <td>0.026609</td>\n",
       "      <td>0.035278</td>\n",
       "      <td>0.390373</td>\n",
       "    </tr>\n",
       "    <tr>\n",
       "      <th>3</th>\n",
       "      <td>0.269110</td>\n",
       "      <td>0.438545</td>\n",
       "      <td>0.801505</td>\n",
       "      <td>0.609330</td>\n",
       "      <td>0.195101</td>\n",
       "    </tr>\n",
       "    <tr>\n",
       "      <th>4</th>\n",
       "      <td>0.686324</td>\n",
       "      <td>0.240583</td>\n",
       "      <td>0.947298</td>\n",
       "      <td>0.964959</td>\n",
       "      <td>0.493572</td>\n",
       "    </tr>\n",
       "  </tbody>\n",
       "</table>\n",
       "</div>"
      ],
      "text/plain": [
       "         x0        x1        x2        x3        x4\n",
       "0  0.552404  0.423491  0.757016  0.320305  0.190718\n",
       "1  0.529221  0.814676  0.024548  0.446910  0.966283\n",
       "2  0.794715  0.599048  0.026609  0.035278  0.390373\n",
       "3  0.269110  0.438545  0.801505  0.609330  0.195101\n",
       "4  0.686324  0.240583  0.947298  0.964959  0.493572"
      ]
     },
     "execution_count": 3,
     "metadata": {},
     "output_type": "execute_result"
    }
   ],
   "source": [
    "from hebo.design_space.design_space import DesignSpace\n",
    "\n",
    "lb,ub  = problem.bounds()\n",
    "params = [{'name' : 'x' + str(i), 'type' : 'num', 'lb' : lb[i], 'ub' : ub[i]} for i in range(dim)]\n",
    "space  = DesignSpace().parse(params)\n",
    "space.sample(5)"
   ]
  },
  {
   "cell_type": "markdown",
   "metadata": {},
   "source": [
    "## Bayesian optimisation\n",
    "\n",
    "The `GeneralBO` class can be used to perform multi-objective bayesian optimisation"
   ]
  },
  {
   "cell_type": "code",
   "execution_count": 4,
   "metadata": {},
   "outputs": [],
   "source": [
    "from hebo.optimizers.general import GeneralBO\n",
    "conf = {}\n",
    "conf['num_epochs'] = 100\n",
    "opt = GeneralBO(space, num_obj, num_constr, model_conf = conf)\n",
    "for i in range(50):\n",
    "    rec = opt.suggest(n_suggestions=4)\n",
    "    opt.observe(rec, obj(rec))"
   ]
  },
  {
   "cell_type": "markdown",
   "metadata": {},
   "source": [
    "We'll plot the Pareto front given by BO algorithm, and compare it with random search, we can see that BO gives much better PF than random search"
   ]
  },
  {
   "cell_type": "code",
   "execution_count": 5,
   "metadata": {},
   "outputs": [
    {
     "data": {
      "text/plain": [
       "<matplotlib.legend.Legend at 0x2234c9bbb88>"
      ]
     },
     "execution_count": 5,
     "metadata": {},
     "output_type": "execute_result"
    },
    {
     "data": {
      "image/png": "[encoded data removed]",
      "text/plain": [
       "<Figure size 432x288 with 1 Axes>"
      ]
     },
     "metadata": {
      "needs_background": "light"
     },
     "output_type": "display_data"
    }
   ],
   "source": [
    "feasible_y = extract_pf(opt.y)\n",
    "rand_y     = extract_pf(obj(space.sample(opt.y.shape[0])))\n",
    "plt.plot(feasible_y[:,0], feasible_y[:,1], 'x', color = 'r', label = 'BO')\n",
    "plt.plot(rand_y[:,0], rand_y[:,1], 'x', color = 'b', label = 'Rand')\n",
    "plt.title('Number of Pareto optimal points from BO: %d' % feasible_y.shape[0])\n",
    "plt.legend()"
   ]
  },
  {
   "cell_type": "markdown",
   "metadata": {},
   "source": [
    "## Model accuracy checking"
   ]
  },
  {
   "cell_type": "code",
   "execution_count": 7,
   "metadata": {},
   "outputs": [
    {
     "data": {
      "image/png": "[encoded data removed]",
      "text/plain": [
       "<Figure size 576x288 with 2 Axes>"
      ]
     },
     "metadata": {
      "needs_background": "light"
     },
     "output_type": "display_data"
    }
   ],
   "source": [
    "params = space.sample(1000)\n",
    "values = obj(params)\n",
    "with torch.no_grad():\n",
    "    py,ps2 = opt.model.predict(*space.transform(params))\n",
    "\n",
    "plt.figure(figsize = (8,4))\n",
    "for i in range(2):\n",
    "    plt.subplot(1,2,i+1)\n",
    "    plt.plot(values[:,i], py[:,i], 'x')\n",
    "    plt.plot(values[:,i], values[:,i])"
   ]
  },
  {
   "cell_type": "markdown",
   "metadata": {},
   "source": [
    "## Copyright statment\n",
    "\n",
    "Copyright (C) 2020. Huawei Technologies Co., Ltd. All rights reserved.\n",
    "\n",
    "This program is free software; you can redistribute it and/or modify it under\n",
    "the terms of the MIT license.\n",
    "\n",
    "This program is distributed in the hope that it will be useful, but WITHOUT ANY\n",
    "WARRANTY; without even the implied warranty of MERCHANTABILITY or FITNESS FOR A\n",
    "PARTICULAR PURPOSE. See the MIT License for more details."
   ]
  },
  {
   "cell_type": "code",
   "execution_count": null,
   "metadata": {},
   "outputs": [],
   "source": []
  }
 ],
 "metadata": {
  "kernelspec": {
   "display_name": "Python 3",
   "language": "python",
   "name": "python3"
  },
  "language_info": {
   "codemirror_mode": {
    "name": "ipython",
    "version": 3
   },
   "file_extension": ".py",
   "mimetype": "text/x-python",
   "name": "python",
   "nbconvert_exporter": "python",
   "pygments_lexer": "ipython3",
   "version": "3.7.6"
  }
 },
 "nbformat": 4,
 "nbformat_minor": 4
}
