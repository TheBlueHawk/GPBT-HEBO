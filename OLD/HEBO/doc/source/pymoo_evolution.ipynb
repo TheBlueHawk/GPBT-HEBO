{
 "cells": [
  {
   "cell_type": "markdown",
   "metadata": {},
   "source": [
    "# Evolutionary Optimization with HEBO API\n",
    "\n",
    "Though we mainly focus on Bayesian optimsation algorithms, we also include evolutionary optimisation algorithms in HEBO, the evolutionary algorithm is a wrapper of algorithms from `pymoo`, below is an example that applies differential evolution algorithm to optimise the [zdt4](http://people.ee.ethz.ch/~sop/download/supplementary/testproblems/zdt4/index.php) function."
   ]
  },
  {
   "cell_type": "code",
   "execution_count": 1,
   "metadata": {},
   "outputs": [],
   "source": [
    "from hebo.design_space import DesignSpace\n",
    "from hebo.optimizers.evolution import Evolution\n",
    "from hebo.benchmarks.synthetic_benchmarks import PymooDummy\n",
    "\n",
    "from pymoo.factory import get_problem"
   ]
  },
  {
   "cell_type": "code",
   "execution_count": 2,
   "metadata": {},
   "outputs": [],
   "source": [
    "prob  = PymooDummy(10, get_problem('zdt4', n_var = 10))\n",
    "space = prob.space"
   ]
  },
  {
   "cell_type": "code",
   "execution_count": 4,
   "metadata": {},
   "outputs": [
    {
     "name": "stderr",
     "output_type": "stream",
     "text": [
      "100%|███████████████████████████████████████████████████████████████████████████████████████████████████████████████████████████████████████████████████████████████████████████████████████████████████| 300/300 [00:02<00:00, 111.99it/s]\n"
     ]
    },
    {
     "data": {
      "text/plain": [
       "<matplotlib.legend.Legend at 0x1664e12ef40>"
      ]
     },
     "execution_count": 4,
     "metadata": {},
     "output_type": "execute_result"
    },
    {
     "data": {
      "image/png": "[encoded data removed]",
      "text/plain": [
       "<Figure size 432x288 with 1 Axes>"
      ]
     },
     "metadata": {
      "needs_background": "light"
     },
     "output_type": "display_data"
    }
   ],
   "source": [
    "from tqdm import trange\n",
    "import matplotlib.pyplot as plt\n",
    "opt = Evolution(space, num_obj=2)\n",
    "for _ in trange(300):\n",
    "    rec = opt.suggest() \n",
    "    opt.observe(rec, prob(rec))\n",
    "\n",
    "true_pf = prob.pareto_front\n",
    "opt_pf  = opt.best_y\n",
    "plt.plot(true_pf[:,0], true_pf[:,1], 'x', label = 'True PF')\n",
    "plt.plot(opt_pf[:,0], opt_pf[:,1], '+', label = 'Optimized PF')\n",
    "plt.legend()"
   ]
  },
  {
   "cell_type": "code",
   "execution_count": 34,
   "metadata": {},
   "outputs": [],
   "source": [
    "# Copyright (C) 2020. Huawei Technologies Co., Ltd. All rights reserved.\n",
    "\n",
    "# This program is free software; you can redistribute it and/or modify it under\n",
    "# the terms of the MIT license.\n",
    "\n",
    "# This program is distributed in the hope that it will be useful, but WITHOUT ANY\n",
    "# WARRANTY; without even the implied warranty of MERCHANTABILITY or FITNESS FOR A\n",
    "# PARTICULAR PURPOSE. See the MIT License for more details"
   ]
  },
  {
   "cell_type": "code",
   "execution_count": null,
   "metadata": {},
   "outputs": [],
   "source": []
  }
 ],
 "metadata": {
  "kernelspec": {
   "display_name": "Python 3 (ipykernel)",
   "language": "python",
   "name": "python3"
  },
  "language_info": {
   "codemirror_mode": {
    "name": "ipython",
    "version": 3
   },
   "file_extension": ".py",
   "mimetype": "text/x-python",
   "name": "python",
   "nbconvert_exporter": "python",
   "pygments_lexer": "ipython3",
   "version": "3.9.7"
  }
 },
 "nbformat": 4,
 "nbformat_minor": 4
}
