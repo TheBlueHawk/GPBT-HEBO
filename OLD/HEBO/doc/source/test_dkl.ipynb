{
 "cells": [
  {
   "cell_type": "code",
   "execution_count": 1,
   "id": "e020c067",
   "metadata": {},
   "outputs": [],
   "source": [
    "import torch\n",
    "import torch.nn as nn\n",
    "import matplotlib.pyplot as plt\n",
    "\n",
    "from hebo.models.model_factory import get_model"
   ]
  },
  {
   "cell_type": "code",
   "execution_count": 25,
   "id": "369efcdc",
   "metadata": {
    "scrolled": true
   },
   "outputs": [],
   "source": [
    "torch.manual_seed(42)\n",
    "xs = 3 * torch.randn(10,1)\n",
    "ys = xs.sign()\n",
    "model = get_model('dkl_ens', 1, 0, 1, \n",
    "                  sn            = True, \n",
    "                  act           = nn.ReLU(),\n",
    "                  lr            = 1e-2, \n",
    "                  verbose       = False, \n",
    "                  num_epochs    = 300, \n",
    "                  num_hiddens   = 8,\n",
    "                  num_ensembles = 1)\n",
    "model.fit(xs,None, ys)"
   ]
  },
  {
   "cell_type": "code",
   "execution_count": 26,
   "id": "07686234",
   "metadata": {},
   "outputs": [
    {
     "data": {
      "image/png": "[encoded data removed]",
      "text/plain": [
       "<Figure size 432x288 with 1 Axes>"
      ]
     },
     "metadata": {
      "needs_background": "light"
     },
     "output_type": "display_data"
    }
   ],
   "source": [
    "x = torch.linspace(-9,9,300).view(-1,1)\n",
    "with torch.no_grad():\n",
    "    py, ps2 = model.predict(x,None)\n",
    "    plt.plot(x,x.sign())\n",
    "    plt.plot(xs,ys,'r.',markersize = 10)\n",
    "    plt.plot(x,py)\n",
    "    lcb = py - 1.96 * ps2.sqrt()\n",
    "    ucb = py + 1.96 * ps2.sqrt()\n",
    "    plt.fill_between(x.view(-1), lcb.view(-1), ucb.view(-1), alpha = 0.3)"
   ]
  },
  {
   "cell_type": "code",
   "execution_count": 111,
   "id": "3cfb9e13",
   "metadata": {},
   "outputs": [
    {
     "data": {
      "text/plain": [
       "tensor(1.0196, grad_fn=<MaxBackward1>)"
      ]
     },
     "execution_count": 111,
     "metadata": {},
     "output_type": "execute_result"
    }
   ],
   "source": [
    "model.gps[0].gp.kern.base_kernel.lengthscale.max()"
   ]
  },
  {
   "cell_type": "code",
   "execution_count": 112,
   "id": "677b6cf1",
   "metadata": {},
   "outputs": [
    {
     "data": {
      "text/plain": [
       "GPyTorchModel(\n",
       "  (likelihood): GaussianLikelihood(\n",
       "    (noise_covar): HomoskedasticNoise(\n",
       "      (noise_prior): LogNormalPrior()\n",
       "      (raw_noise_constraint): GreaterThan(1.000E-05)\n",
       "    )\n",
       "  )\n",
       "  (fe): Sequential(\n",
       "    (0): ParametrizedLinear(\n",
       "      in_features=1, out_features=32, bias=True\n",
       "      (parametrizations): ModuleDict(\n",
       "        (weight): ParametrizationList(\n",
       "          (0): _SpectralNorm()\n",
       "        )\n",
       "      )\n",
       "    )\n",
       "    (1): ReLU()\n",
       "    (2): ParametrizedLinear(\n",
       "      in_features=32, out_features=32, bias=True\n",
       "      (parametrizations): ModuleDict(\n",
       "        (weight): ParametrizationList(\n",
       "          (0): _SpectralNorm()\n",
       "        )\n",
       "      )\n",
       "    )\n",
       "    (3): ReLU()\n",
       "  )\n",
       "  (mean): ConstantMean()\n",
       "  (kern): ScaleKernel(\n",
       "    (base_kernel): MaternKernel(\n",
       "      (raw_lengthscale_constraint): Positive()\n",
       "      (distance_module): Distance()\n",
       "    )\n",
       "    (outputscale_prior): GammaPrior()\n",
       "    (raw_outputscale_constraint): Positive()\n",
       "  )\n",
       ")"
      ]
     },
     "execution_count": 112,
     "metadata": {},
     "output_type": "execute_result"
    }
   ],
   "source": [
    "model.gps[0].gp"
   ]
  },
  {
   "cell_type": "code",
   "execution_count": null,
   "id": "9b1c7218",
   "metadata": {},
   "outputs": [],
   "source": []
  }
 ],
 "metadata": {
  "kernelspec": {
   "display_name": "Python 3 (ipykernel)",
   "language": "python",
   "name": "python3"
  },
  "language_info": {
   "codemirror_mode": {
    "name": "ipython",
    "version": 3
   },
   "file_extension": ".py",
   "mimetype": "text/x-python",
   "name": "python",
   "nbconvert_exporter": "python",
   "pygments_lexer": "ipython3",
   "version": "3.9.7"
  }
 },
 "nbformat": 4,
 "nbformat_minor": 5
}
